{
 "cells": [
  {
   "cell_type": "code",
   "execution_count": 1,
   "id": "04bb01f1",
   "metadata": {},
   "outputs": [],
   "source": [
    "import pandas as pd\n",
    "import numpy as np\n",
    "import matplotlib.pyplot as plt\n",
    "import warnings\n",
    "from sklearn.metrics import root_mean_squared_error\n",
    "from statsmodels.graphics.tsaplots import plot_acf\n",
    "from statsmodels.tsa.arima.model import ARIMA\n",
    "warnings.filterwarnings('ignore')\n",
    "from statsmodels.tsa.holtwinters import Holt"
   ]
  },
  {
   "cell_type": "code",
   "execution_count": 2,
   "id": "4c95cd0f",
   "metadata": {},
   "outputs": [
    {
     "data": {
      "text/html": [
       "<div>\n",
       "<style scoped>\n",
       "    .dataframe tbody tr th:only-of-type {\n",
       "        vertical-align: middle;\n",
       "    }\n",
       "\n",
       "    .dataframe tbody tr th {\n",
       "        vertical-align: top;\n",
       "    }\n",
       "\n",
       "    .dataframe thead th {\n",
       "        text-align: right;\n",
       "    }\n",
       "</style>\n",
       "<table border=\"1\" class=\"dataframe\">\n",
       "  <thead>\n",
       "    <tr style=\"text-align: right;\">\n",
       "      <th></th>\n",
       "      <th>Date</th>\n",
       "      <th>NSA Value</th>\n",
       "      <th>SA Value</th>\n",
       "    </tr>\n",
       "  </thead>\n",
       "  <tbody>\n",
       "    <tr>\n",
       "      <th>0</th>\n",
       "      <td>31-01-1975</td>\n",
       "      <td>24.739893</td>\n",
       "      <td>24.687815</td>\n",
       "    </tr>\n",
       "    <tr>\n",
       "      <th>1</th>\n",
       "      <td>28-02-1975</td>\n",
       "      <td>25.266825</td>\n",
       "      <td>25.200482</td>\n",
       "    </tr>\n",
       "    <tr>\n",
       "      <th>2</th>\n",
       "      <td>31-03-1975</td>\n",
       "      <td>25.765667</td>\n",
       "      <td>25.633002</td>\n",
       "    </tr>\n",
       "    <tr>\n",
       "      <th>3</th>\n",
       "      <td>30-04-1975</td>\n",
       "      <td>26.212724</td>\n",
       "      <td>26.009987</td>\n",
       "    </tr>\n",
       "    <tr>\n",
       "      <th>4</th>\n",
       "      <td>31-05-1975</td>\n",
       "      <td>26.628081</td>\n",
       "      <td>26.350592</td>\n",
       "    </tr>\n",
       "  </tbody>\n",
       "</table>\n",
       "</div>"
      ],
      "text/plain": [
       "         Date  NSA Value   SA Value\n",
       "0  31-01-1975  24.739893  24.687815\n",
       "1  28-02-1975  25.266825  25.200482\n",
       "2  31-03-1975  25.765667  25.633002\n",
       "3  30-04-1975  26.212724  26.009987\n",
       "4  31-05-1975  26.628081  26.350592"
      ]
     },
     "execution_count": 2,
     "metadata": {},
     "output_type": "execute_result"
    }
   ],
   "source": [
    "fmc=pd.read_csv(r'..\\Datasets\\FMAC-HPI_24420.csv')\n",
    "y=fmc['NSA Value']\n",
    "fmc.head()"
   ]
  },
  {
   "cell_type": "code",
   "execution_count": 3,
   "id": "aa457780",
   "metadata": {},
   "outputs": [
    {
     "data": {
      "text/plain": [
       "((531,), (519,), (12,))"
      ]
     },
     "execution_count": 3,
     "metadata": {},
     "output_type": "execute_result"
    }
   ],
   "source": [
    "y_train=y.iloc[:-12]\n",
    "y_test=y.iloc[-12:]\n",
    "y.shape,y_train.shape,y_test.shape"
   ]
  },
  {
   "cell_type": "markdown",
   "id": "9f021c7c",
   "metadata": {},
   "source": [
    "## 1st order AR model"
   ]
  },
  {
   "cell_type": "code",
   "execution_count": null,
   "id": "a3737806",
   "metadata": {},
   "outputs": [
    {
     "data": {
      "text/plain": [
       "const     101.667455\n",
       "ar.L1       0.999910\n",
       "sigma2      1.460147\n",
       "dtype: float64"
      ]
     },
     "execution_count": 8,
     "metadata": {},
     "output_type": "execute_result"
    }
   ],
   "source": [
    "model=ARIMA(y_train,order=(1,0,0))\n",
    "model_fit=model.fit()\n",
    "model_fit.params"
   ]
  },
  {
   "cell_type": "markdown",
   "id": "92de32e8",
   "metadata": {},
   "source": [
    "## 2nd order AR model"
   ]
  },
  {
   "cell_type": "code",
   "execution_count": null,
   "id": "d0bd33fc",
   "metadata": {},
   "outputs": [
    {
     "data": {
      "text/plain": [
       "const     99.448481\n",
       "ar.L1      1.945689\n",
       "ar.L2     -0.945856\n",
       "sigma2     0.165765\n",
       "dtype: float64"
      ]
     },
     "execution_count": 10,
     "metadata": {},
     "output_type": "execute_result"
    }
   ],
   "source": [
    "model=ARIMA(y_train,order=(2,0,0))\n",
    "model_fit=model.fit()\n",
    "model_fit.params"
   ]
  },
  {
   "cell_type": "code",
   "execution_count": null,
   "id": "ec24c211",
   "metadata": {},
   "outputs": [
    {
     "data": {
      "text/plain": [
       "13.59735208621456"
      ]
     },
     "execution_count": 11,
     "metadata": {},
     "output_type": "execute_result"
    }
   ],
   "source": [
    "y_pred=model_fit.predict(start=len(y_train),end=len(y_train)+len(y_test)-1)\n",
    "root_mean_squared_error(y_test,y_pred)"
   ]
  },
  {
   "cell_type": "markdown",
   "id": "c749cd20",
   "metadata": {},
   "source": [
    "## Testing for different orders"
   ]
  },
  {
   "cell_type": "code",
   "execution_count": null,
   "id": "9305cdcc",
   "metadata": {},
   "outputs": [
    {
     "name": "stdout",
     "output_type": "stream",
     "text": [
      "1 5.048069073055825\n",
      "2 13.59735208621456\n",
      "3 5.489401802256855\n",
      "4 4.559152494696956\n"
     ]
    }
   ],
   "source": [
    "for i in [1,2,3,4]:\n",
    "    model=ARIMA(y_train,order=(i,0,0))\n",
    "    model_fit=model.fit()\n",
    "    y_pred=model_fit.predict(start=len(y_train),end=len(y_train)+len(y_test)-1)\n",
    "    print(i,root_mean_squared_error(y_test,y_pred))"
   ]
  },
  {
   "cell_type": "code",
   "execution_count": null,
   "id": "8a38287b",
   "metadata": {},
   "outputs": [
    {
     "name": "stdout",
     "output_type": "stream",
     "text": [
      "1 26.025059782530498\n",
      "2 9.97334588708627\n",
      "3 11.86314515993895\n",
      "4 8.315555785942127\n"
     ]
    }
   ],
   "source": [
    "for i in [1,2,3,4]:\n",
    "    model=ARIMA(y_train,order=(i,2,0))\n",
    "    model_fit=model.fit()\n",
    "    y_pred=model_fit.predict(start=len(y_train),end=len(y_train)+len(y_test)-1)\n",
    "    print(i,root_mean_squared_error(y_test,y_pred))"
   ]
  },
  {
   "cell_type": "markdown",
   "id": "c93f55f2",
   "metadata": {},
   "source": [
    "## First oder MA"
   ]
  },
  {
   "cell_type": "code",
   "execution_count": null,
   "id": "8bde445c",
   "metadata": {},
   "outputs": [
    {
     "data": {
      "text/plain": [
       "const      99.475012\n",
       "ma.L1       0.999547\n",
       "sigma2    707.969482\n",
       "dtype: float64"
      ]
     },
     "execution_count": 16,
     "metadata": {},
     "output_type": "execute_result"
    }
   ],
   "source": [
    "model=ARIMA(y_train,order=(0,0,1))\n",
    "model_fit=model.fit()\n",
    "model_fit.params"
   ]
  },
  {
   "cell_type": "code",
   "execution_count": null,
   "id": "93da8a17",
   "metadata": {},
   "outputs": [
    {
     "name": "stdout",
     "output_type": "stream",
     "text": [
      "1 5.0961733372373486\n",
      "2 7.347151691978581\n",
      "3 15.812976499184566\n",
      "4 13.14265237189554\n"
     ]
    }
   ],
   "source": [
    "for i in [1,2,3,4]:\n",
    "    model=ARIMA(y_train,order=(0,3,i))\n",
    "    model_fit=model.fit()\n",
    "    y_pred=model_fit.predict(start=len(y_train),end=len(y_train)+len(y_test)-1)\n",
    "    print(i,root_mean_squared_error(y_test,y_pred))"
   ]
  },
  {
   "cell_type": "markdown",
   "id": "375ea6a9",
   "metadata": {},
   "source": [
    "## ARMA"
   ]
  },
  {
   "cell_type": "code",
   "execution_count": null,
   "id": "3d983108",
   "metadata": {},
   "outputs": [
    {
     "name": "stdout",
     "output_type": "stream",
     "text": [
      "1 1 6.396868298263873\n",
      "1 2 15.859160381926069\n",
      "1 3 14.281716140165978\n",
      "1 4 13.44071621125977\n",
      "2 1 13.072842452146864\n",
      "2 2 11.506085490551856\n",
      "2 3 7.417053203449396\n",
      "2 4 7.100478648996943\n",
      "3 1 19.002567034749028\n",
      "3 2 10.342163111573\n",
      "3 3 6.890698219038318\n",
      "3 4 7.368758666530333\n",
      "4 1 18.780196869992672\n",
      "4 2 9.381979728288757\n",
      "4 3 10.252239488979601\n",
      "4 4 10.739308847557307\n"
     ]
    }
   ],
   "source": [
    "for i in [1,2,3,4]:\n",
    "    for j in [1,2,3,4]:\n",
    "        model=ARIMA(y_train,order=(i,0,j))\n",
    "        model_fit=model.fit()\n",
    "        y_pred=model_fit.predict(start=len(y_train),end=len(y_train)+len(y_test)-1)\n",
    "        print(i,j,root_mean_squared_error(y_test,y_pred))"
   ]
  },
  {
   "cell_type": "markdown",
   "id": "321f38d5",
   "metadata": {},
   "source": [
    "## ARIMA"
   ]
  },
  {
   "cell_type": "code",
   "execution_count": null,
   "id": "6a5579c4",
   "metadata": {},
   "outputs": [
    {
     "name": "stdout",
     "output_type": "stream",
     "text": [
      "1 1 1 12.43938781700421\n",
      "1 1 2 15.77198538949569\n",
      "1 1 3 6.396868298263873\n",
      "1 2 1 7.813939695672662\n",
      "1 2 2 13.388247328374405\n",
      "1 2 3 15.859160381926069\n",
      "1 3 1 4.998610366876486\n",
      "1 3 2 9.271863774652807\n",
      "1 3 3 14.281716140165978\n",
      "1 4 1 4.441483356264259\n",
      "1 4 2 9.738161736088825\n",
      "1 4 3 13.44071621125977\n",
      "2 1 1 3.19098125004443\n",
      "2 1 2 11.420693880310367\n",
      "2 1 3 13.072842452146864\n",
      "2 2 1 3.295944744514682\n",
      "2 2 2 7.111913201561043\n",
      "2 2 3 11.506085490551856\n",
      "2 3 1 9.43894117859171\n",
      "2 3 2 6.618994701789304\n",
      "2 3 3 7.417053203449396\n",
      "2 4 1 7.413829283368148\n",
      "2 4 2 4.739994100292492\n",
      "2 4 3 7.100478648996943\n",
      "3 1 1 3.6135247988016967\n",
      "3 1 2 10.247671516396927\n",
      "3 1 3 19.002567034749028\n",
      "3 2 1 5.547623021698349\n",
      "3 2 2 7.134784316862658\n",
      "3 2 3 10.342163111573\n",
      "3 3 1 5.796902350805663\n",
      "3 3 2 4.911540657960255\n",
      "3 3 3 6.890698219038318\n",
      "3 4 1 4.1176480614491835\n",
      "3 4 2 4.586591966505473\n",
      "3 4 3 7.368758666530333\n",
      "4 1 1 3.821760449759465\n",
      "4 1 2 8.634785903771295\n",
      "4 1 3 18.780196869992672\n",
      "4 2 1 5.472097889711063\n",
      "4 2 2 4.835965427225313\n",
      "4 2 3 9.381979728288757\n",
      "4 3 1 3.0836108008476555\n",
      "4 3 2 5.690937601041211\n",
      "4 3 3 10.252239488979601\n",
      "4 4 1 4.205042773853556\n",
      "4 4 2 7.661103352387469\n",
      "4 4 3 10.739308847557307\n"
     ]
    }
   ],
   "source": [
    "for i in [1,2,3,4]:\n",
    "    for j in [1,2,3,4]:\n",
    "        for d in [1,2,3]:\n",
    "            model=ARIMA(y_train,order=(i,d,j))\n",
    "            model_fit=model.fit()\n",
    "            y_pred=model_fit.predict(start=len(y_train),end=len(y_train)+len(y_test)-1)\n",
    "            print(i,j,d,root_mean_squared_error(y_test,y_pred))"
   ]
  },
  {
   "cell_type": "markdown",
   "id": "124d5037",
   "metadata": {},
   "source": [
    "### ARIMA"
   ]
  },
  {
   "cell_type": "code",
   "execution_count": null,
   "id": "dc26dc1c",
   "metadata": {},
   "outputs": [],
   "source": [
    "from statsmodels.tsa.statespace.sarimax import SARIMAX\n",
    "model1= auto_arima(y_train,trace=True,error_action='ignore',supress_warnings=True)"
   ]
  },
  {
   "cell_type": "code",
   "execution_count": null,
   "id": "49d8aaf6",
   "metadata": {},
   "outputs": [],
   "source": [
    "y_pred=model.predict(n_preiods=len(y_test))\n",
    "root_mean_squared_error(y_test,y_pred)\n"
   ]
  },
  {
   "cell_type": "markdown",
   "id": "93d61b86",
   "metadata": {},
   "source": [
    "### SARIMA"
   ]
  },
  {
   "cell_type": "code",
   "execution_count": null,
   "id": "9f6820b1",
   "metadata": {},
   "outputs": [],
   "source": [
    "from statsmodels.tsa.statespace.sarimax import SARIMAX\n",
    "from pmdarima.arima import auto_arima\n",
    "model1= auto_sarima(y_train,trace=True,error_action='ignore',supress_warnings=True,seasonality)\n",
    "y_pred=model.predict(n_preiods=len(y_test))\n",
    "root_mean_squared_error(y_test,y_pred)\n"
   ]
  }
 ],
 "metadata": {
  "kernelspec": {
   "display_name": "Python 3",
   "language": "python",
   "name": "python3"
  },
  "language_info": {
   "codemirror_mode": {
    "name": "ipython",
    "version": 3
   },
   "file_extension": ".py",
   "mimetype": "text/x-python",
   "name": "python",
   "nbconvert_exporter": "python",
   "pygments_lexer": "ipython3",
   "version": "3.13.2"
  }
 },
 "nbformat": 4,
 "nbformat_minor": 5
}

{
 "cells": [
  {
   "cell_type": "code",
   "execution_count": 42,
   "id": "48b6261c",
   "metadata": {},
   "outputs": [],
   "source": [
    "# imports\n",
    "import pandas as pd\n",
    "import numpy as np\n",
    "from sklearn.linear_model import LogisticRegression\n",
    "from sklearn.discriminant_analysis import LinearDiscriminantAnalysis\n",
    "from sklearn.svm import SVC\n",
    "from sklearn.tree import DecisionTreeClassifier\n",
    "from lightgbm import LGBMClassifier\n",
    "from sklearn.ensemble import StackingClassifier,RandomForestClassifier\n",
    "from sklearn.pipeline import Pipeline\n",
    "from sklearn.preprocessing import StandardScaler,LabelEncoder\n",
    "from sklearn.model_selection import train_test_split\n",
    "from sklearn.metrics import log_loss\n",
    "import warnings\n",
    "warnings.filterwarnings('ignore')"
   ]
  },
  {
   "cell_type": "code",
   "execution_count": 43,
   "id": "22c05ed6",
   "metadata": {},
   "outputs": [
    {
     "data": {
      "text/html": [
       "<div>\n",
       "<style scoped>\n",
       "    .dataframe tbody tr th:only-of-type {\n",
       "        vertical-align: middle;\n",
       "    }\n",
       "\n",
       "    .dataframe tbody tr th {\n",
       "        vertical-align: top;\n",
       "    }\n",
       "\n",
       "    .dataframe thead th {\n",
       "        text-align: right;\n",
       "    }\n",
       "</style>\n",
       "<table border=\"1\" class=\"dataframe\">\n",
       "  <thead>\n",
       "    <tr style=\"text-align: right;\">\n",
       "      <th></th>\n",
       "      <th>RI</th>\n",
       "      <th>Na</th>\n",
       "      <th>Mg</th>\n",
       "      <th>Al</th>\n",
       "      <th>Si</th>\n",
       "      <th>K</th>\n",
       "      <th>Ca</th>\n",
       "      <th>Ba</th>\n",
       "      <th>Fe</th>\n",
       "      <th>Type</th>\n",
       "    </tr>\n",
       "  </thead>\n",
       "  <tbody>\n",
       "    <tr>\n",
       "      <th>0</th>\n",
       "      <td>1.52101</td>\n",
       "      <td>13.64</td>\n",
       "      <td>4.49</td>\n",
       "      <td>1.10</td>\n",
       "      <td>71.78</td>\n",
       "      <td>0.06</td>\n",
       "      <td>8.75</td>\n",
       "      <td>0.0</td>\n",
       "      <td>0.0</td>\n",
       "      <td>building_windows_float_processed</td>\n",
       "    </tr>\n",
       "    <tr>\n",
       "      <th>1</th>\n",
       "      <td>1.51761</td>\n",
       "      <td>13.89</td>\n",
       "      <td>3.60</td>\n",
       "      <td>1.36</td>\n",
       "      <td>72.73</td>\n",
       "      <td>0.48</td>\n",
       "      <td>7.83</td>\n",
       "      <td>0.0</td>\n",
       "      <td>0.0</td>\n",
       "      <td>building_windows_float_processed</td>\n",
       "    </tr>\n",
       "    <tr>\n",
       "      <th>2</th>\n",
       "      <td>1.51618</td>\n",
       "      <td>13.53</td>\n",
       "      <td>3.55</td>\n",
       "      <td>1.54</td>\n",
       "      <td>72.99</td>\n",
       "      <td>0.39</td>\n",
       "      <td>7.78</td>\n",
       "      <td>0.0</td>\n",
       "      <td>0.0</td>\n",
       "      <td>building_windows_float_processed</td>\n",
       "    </tr>\n",
       "    <tr>\n",
       "      <th>3</th>\n",
       "      <td>1.51766</td>\n",
       "      <td>13.21</td>\n",
       "      <td>3.69</td>\n",
       "      <td>1.29</td>\n",
       "      <td>72.61</td>\n",
       "      <td>0.57</td>\n",
       "      <td>8.22</td>\n",
       "      <td>0.0</td>\n",
       "      <td>0.0</td>\n",
       "      <td>building_windows_float_processed</td>\n",
       "    </tr>\n",
       "    <tr>\n",
       "      <th>4</th>\n",
       "      <td>1.51742</td>\n",
       "      <td>13.27</td>\n",
       "      <td>3.62</td>\n",
       "      <td>1.24</td>\n",
       "      <td>73.08</td>\n",
       "      <td>0.55</td>\n",
       "      <td>8.07</td>\n",
       "      <td>0.0</td>\n",
       "      <td>0.0</td>\n",
       "      <td>building_windows_float_processed</td>\n",
       "    </tr>\n",
       "  </tbody>\n",
       "</table>\n",
       "</div>"
      ],
      "text/plain": [
       "        RI     Na    Mg    Al     Si     K    Ca   Ba   Fe  \\\n",
       "0  1.52101  13.64  4.49  1.10  71.78  0.06  8.75  0.0  0.0   \n",
       "1  1.51761  13.89  3.60  1.36  72.73  0.48  7.83  0.0  0.0   \n",
       "2  1.51618  13.53  3.55  1.54  72.99  0.39  7.78  0.0  0.0   \n",
       "3  1.51766  13.21  3.69  1.29  72.61  0.57  8.22  0.0  0.0   \n",
       "4  1.51742  13.27  3.62  1.24  73.08  0.55  8.07  0.0  0.0   \n",
       "\n",
       "                               Type  \n",
       "0  building_windows_float_processed  \n",
       "1  building_windows_float_processed  \n",
       "2  building_windows_float_processed  \n",
       "3  building_windows_float_processed  \n",
       "4  building_windows_float_processed  "
      ]
     },
     "execution_count": 43,
     "metadata": {},
     "output_type": "execute_result"
    }
   ],
   "source": [
    "glass_df = pd.read_csv(r'..\\Cases\\Glass Identification\\Glass.csv')\n",
    "glass_df.head()"
   ]
  },
  {
   "cell_type": "code",
   "execution_count": 44,
   "id": "a06d8fc7",
   "metadata": {},
   "outputs": [],
   "source": [
    "X= glass_df.drop(columns=['Type'])\n",
    "y= glass_df['Type']\n",
    "\n",
    "scaler=StandardScaler()\n",
    "\n",
    "le= LabelEncoder()\n",
    "y= le.fit_transform(y)\n",
    "\n",
    "X_train,X_test,y_train,y_test = train_test_split(X,y,test_size=0.3,random_state=25,stratify=y)"
   ]
  },
  {
   "cell_type": "markdown",
   "id": "830dbe36",
   "metadata": {},
   "source": [
    "## Using LGB as final estimator "
   ]
  },
  {
   "cell_type": "markdown",
   "id": "4273bf0c",
   "metadata": {},
   "source": [
    "### Without passthrough"
   ]
  },
  {
   "cell_type": "code",
   "execution_count": 45,
   "id": "d7241a66",
   "metadata": {},
   "outputs": [],
   "source": [
    "lda=LinearDiscriminantAnalysis()\n",
    "lr=LogisticRegression(random_state=25)\n",
    "\n",
    "svc=SVC(kernel='rbf',probability=True,random_state=25)\n",
    "sm_pipe=Pipeline([(\"Scalar\",scaler),(\"svm\",svc)])\n",
    "\n",
    "dtree=DecisionTreeClassifier(random_state=25)\n",
    "lgb=LGBMClassifier(random_state=25)\n",
    "random_forest=RandomForestClassifier(random_state=25)\n",
    "stack_1=StackingClassifier([('Linear discriminant',lda),('LinearRegression',lr),(\"SVC\",sm_pipe),('DecisionTree',dtree)],final_estimator=lgb)"
   ]
  },
  {
   "cell_type": "code",
   "execution_count": 46,
   "id": "43c3b58b",
   "metadata": {},
   "outputs": [
    {
     "data": {
      "text/plain": [
       "1.1106425457558524"
      ]
     },
     "execution_count": 46,
     "metadata": {},
     "output_type": "execute_result"
    }
   ],
   "source": [
    "stack_1.fit(X_train,y_train)\n",
    "y_pred_proba_1=stack_1.predict_proba(X_test)\n",
    "log_loss(y_test,y_pred_proba_1)"
   ]
  },
  {
   "cell_type": "markdown",
   "id": "25f93567",
   "metadata": {},
   "source": [
    "### With passthrough"
   ]
  },
  {
   "cell_type": "code",
   "execution_count": 47,
   "id": "720b432a",
   "metadata": {},
   "outputs": [
    {
     "data": {
      "text/plain": [
       "0.7725145885617061"
      ]
     },
     "execution_count": 47,
     "metadata": {},
     "output_type": "execute_result"
    }
   ],
   "source": [
    "stack_2=StackingClassifier([('Linear discriminant',lda),('LinearRegression',lr),(\"SVC\",sm_pipe),('DecisionTree',dtree)],final_estimator=lgb,passthrough=True)\n",
    "stack_2.fit(X_train,y_train)\n",
    "y_pred_proba_2=stack_2.predict_proba(X_test)\n",
    "log_loss(y_test,y_pred_proba_2)"
   ]
  },
  {
   "cell_type": "markdown",
   "id": "62605510",
   "metadata": {},
   "source": [
    "## With randomForest as final estimator"
   ]
  },
  {
   "cell_type": "markdown",
   "id": "8a24d5ec",
   "metadata": {},
   "source": [
    "### Without pass through"
   ]
  },
  {
   "cell_type": "code",
   "execution_count": 48,
   "id": "4d2c343d",
   "metadata": {},
   "outputs": [
    {
     "data": {
      "text/plain": [
       "0.823414723313914"
      ]
     },
     "execution_count": 48,
     "metadata": {},
     "output_type": "execute_result"
    }
   ],
   "source": [
    "stack_3=StackingClassifier([('Linear discriminant',lda),('LinearRegression',lr),(\"SVC\",sm_pipe),('DecisionTree',dtree)],final_estimator=random_forest)\n",
    "stack_3.fit(X_train,y_train)\n",
    "y_pred_proba_3=stack_3.predict_proba(X_test)\n",
    "log_loss(y_test,y_pred_proba_3)"
   ]
  },
  {
   "cell_type": "code",
   "execution_count": 49,
   "id": "8b31b259",
   "metadata": {},
   "outputs": [
    {
     "data": {
      "text/plain": [
       "0.6834076239625183"
      ]
     },
     "execution_count": 49,
     "metadata": {},
     "output_type": "execute_result"
    }
   ],
   "source": [
    "stack_4=StackingClassifier([('Linear discriminant',lda),('LinearRegression',lr),(\"SVC\",sm_pipe),('DecisionTree',dtree)],final_estimator=random_forest,passthrough=True)\n",
    "stack_4.fit(X_train,y_train)\n",
    "y_pred_proba_4=stack_4.predict_proba(X_test)\n",
    "log_loss(y_test,y_pred_proba_4)"
   ]
  },
  {
   "cell_type": "code",
   "execution_count": null,
   "id": "704f28a1",
   "metadata": {},
   "outputs": [],
   "source": []
  }
 ],
 "metadata": {
  "kernelspec": {
   "display_name": "Python 3",
   "language": "python",
   "name": "python3"
  },
  "language_info": {
   "codemirror_mode": {
    "name": "ipython",
    "version": 3
   },
   "file_extension": ".py",
   "mimetype": "text/x-python",
   "name": "python",
   "nbconvert_exporter": "python",
   "pygments_lexer": "ipython3",
   "version": "3.13.2"
  }
 },
 "nbformat": 4,
 "nbformat_minor": 5
}

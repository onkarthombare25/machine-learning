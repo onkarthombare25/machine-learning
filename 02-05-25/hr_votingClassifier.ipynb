{
 "cells": [
  {
   "cell_type": "code",
   "execution_count": 91,
   "id": "8cc5f870",
   "metadata": {},
   "outputs": [],
   "source": [
    "# imports\n",
    "import pandas as pd\n",
    "from sklearn.preprocessing import OneHotEncoder,StandardScaler\n",
    "from sklearn.compose import make_column_selector, make_column_transformer\n",
    "from sklearn.model_selection import train_test_split\n",
    "from sklearn.metrics import roc_auc_score\n",
    "from sklearn.linear_model import LogisticRegression\n",
    "from sklearn.tree import DecisionTreeClassifier\n",
    "from sklearn.neighbors import KNeighborsClassifier\n",
    "from sklearn.ensemble import VotingClassifier\n",
    "from sklearn.pipeline import Pipeline\n",
    "\n",
    "import warnings\n",
    "warnings.filterwarnings('ignore')"
   ]
  },
  {
   "cell_type": "code",
   "execution_count": 92,
   "id": "23226bc1",
   "metadata": {},
   "outputs": [
    {
     "data": {
      "text/html": [
       "<div>\n",
       "<style scoped>\n",
       "    .dataframe tbody tr th:only-of-type {\n",
       "        vertical-align: middle;\n",
       "    }\n",
       "\n",
       "    .dataframe tbody tr th {\n",
       "        vertical-align: top;\n",
       "    }\n",
       "\n",
       "    .dataframe thead th {\n",
       "        text-align: right;\n",
       "    }\n",
       "</style>\n",
       "<table border=\"1\" class=\"dataframe\">\n",
       "  <thead>\n",
       "    <tr style=\"text-align: right;\">\n",
       "      <th></th>\n",
       "      <th>satisfaction_level</th>\n",
       "      <th>last_evaluation</th>\n",
       "      <th>number_project</th>\n",
       "      <th>average_montly_hours</th>\n",
       "      <th>time_spend_company</th>\n",
       "      <th>Work_accident</th>\n",
       "      <th>left</th>\n",
       "      <th>promotion_last_5years</th>\n",
       "      <th>Department</th>\n",
       "      <th>salary</th>\n",
       "    </tr>\n",
       "  </thead>\n",
       "  <tbody>\n",
       "    <tr>\n",
       "      <th>0</th>\n",
       "      <td>0.38</td>\n",
       "      <td>0.53</td>\n",
       "      <td>2</td>\n",
       "      <td>157</td>\n",
       "      <td>3</td>\n",
       "      <td>0</td>\n",
       "      <td>1</td>\n",
       "      <td>0</td>\n",
       "      <td>sales</td>\n",
       "      <td>low</td>\n",
       "    </tr>\n",
       "    <tr>\n",
       "      <th>1</th>\n",
       "      <td>0.80</td>\n",
       "      <td>0.86</td>\n",
       "      <td>5</td>\n",
       "      <td>262</td>\n",
       "      <td>6</td>\n",
       "      <td>0</td>\n",
       "      <td>1</td>\n",
       "      <td>0</td>\n",
       "      <td>sales</td>\n",
       "      <td>medium</td>\n",
       "    </tr>\n",
       "    <tr>\n",
       "      <th>2</th>\n",
       "      <td>0.10</td>\n",
       "      <td>0.77</td>\n",
       "      <td>6</td>\n",
       "      <td>247</td>\n",
       "      <td>4</td>\n",
       "      <td>0</td>\n",
       "      <td>1</td>\n",
       "      <td>0</td>\n",
       "      <td>sales</td>\n",
       "      <td>low</td>\n",
       "    </tr>\n",
       "    <tr>\n",
       "      <th>3</th>\n",
       "      <td>0.92</td>\n",
       "      <td>0.85</td>\n",
       "      <td>5</td>\n",
       "      <td>259</td>\n",
       "      <td>5</td>\n",
       "      <td>0</td>\n",
       "      <td>1</td>\n",
       "      <td>0</td>\n",
       "      <td>sales</td>\n",
       "      <td>low</td>\n",
       "    </tr>\n",
       "    <tr>\n",
       "      <th>4</th>\n",
       "      <td>0.89</td>\n",
       "      <td>1.00</td>\n",
       "      <td>5</td>\n",
       "      <td>224</td>\n",
       "      <td>5</td>\n",
       "      <td>0</td>\n",
       "      <td>1</td>\n",
       "      <td>0</td>\n",
       "      <td>sales</td>\n",
       "      <td>low</td>\n",
       "    </tr>\n",
       "  </tbody>\n",
       "</table>\n",
       "</div>"
      ],
      "text/plain": [
       "   satisfaction_level  last_evaluation  number_project  average_montly_hours  \\\n",
       "0                0.38             0.53               2                   157   \n",
       "1                0.80             0.86               5                   262   \n",
       "2                0.10             0.77               6                   247   \n",
       "3                0.92             0.85               5                   259   \n",
       "4                0.89             1.00               5                   224   \n",
       "\n",
       "   time_spend_company  Work_accident  left  promotion_last_5years Department  \\\n",
       "0                   3              0     1                      0      sales   \n",
       "1                   6              0     1                      0      sales   \n",
       "2                   4              0     1                      0      sales   \n",
       "3                   5              0     1                      0      sales   \n",
       "4                   5              0     1                      0      sales   \n",
       "\n",
       "   salary  \n",
       "0     low  \n",
       "1  medium  \n",
       "2     low  \n",
       "3     low  \n",
       "4     low  "
      ]
     },
     "execution_count": 92,
     "metadata": {},
     "output_type": "execute_result"
    }
   ],
   "source": [
    "hr_df=pd.read_csv(r'..\\Cases\\human-resources-analytics\\HR_comma_sep.csv')\n",
    "hr_df.head()"
   ]
  },
  {
   "cell_type": "code",
   "execution_count": 93,
   "id": "fa3b852e",
   "metadata": {},
   "outputs": [],
   "source": [
    "X,y = hr_df.drop('left', axis=1),hr_df[['left']]\n",
    "\n",
    "X_train,X_test,y_train,y_test = train_test_split(X,y,test_size=0.3,random_state=25,stratify=y)\n"
   ]
  },
  {
   "cell_type": "code",
   "execution_count": 94,
   "id": "238e8b28",
   "metadata": {},
   "outputs": [],
   "source": [
    "ohe  = OneHotEncoder(sparse_output=False, drop='first').set_output(transform='pandas')\n",
    "ct = make_column_transformer((ohe, make_column_selector(dtype_include=object)),\n",
    "                              ('passthrough', make_column_selector(dtype_exclude=object)),\n",
    "                              verbose_feature_names_out=False)\n",
    "ct = ct.set_output(transform='pandas')\n",
    "X_trn_ohe = ct.fit_transform(X_train)\n",
    "X_tst_ohe = ct.transform(X_test)"
   ]
  },
  {
   "cell_type": "code",
   "execution_count": 95,
   "id": "6257c9c5",
   "metadata": {},
   "outputs": [],
   "source": [
    "log_reg_l1=LogisticRegression(penalty='l2')\n",
    "log_reg_none=LogisticRegression(penalty='none')\n",
    "knn=KNeighborsClassifier()  #Create a pipeline for scaling and knn and then pass that pipeline in the voting algo\n",
    "dtree=DecisionTreeClassifier()\n",
    "dtree_max_depth=DecisionTreeClassifier(max_depth=3)\n",
    "\n",
    "\n",
    "scaler=StandardScaler().set_output(transform='pandas')\n",
    "pi=Pipeline([('scaler',scaler),('knn',knn)])\n"
   ]
  },
  {
   "cell_type": "code",
   "execution_count": 96,
   "id": "32f917cf",
   "metadata": {},
   "outputs": [
    {
     "name": "stdout",
     "output_type": "stream",
     "text": [
      "0.9916522895697227\n"
     ]
    }
   ],
   "source": [
    "voting=VotingClassifier([('LogisticWithL1',log_reg_l1),('LogisticWithNone',log_reg_none),('knn',pi),('DecisionTree',dtree),('Decison Tree with max_depth',dtree_max_depth)],voting='soft')\n",
    "voting.fit(X_trn_ohe,y_train)\n",
    "y_pred_prob=voting.predict_proba(X_tst_ohe)\n",
    "print(roc_auc_score(y_test,y_pred_prob[:,1]))"
   ]
  },
  {
   "cell_type": "code",
   "execution_count": 97,
   "id": "880f2404",
   "metadata": {},
   "outputs": [
    {
     "data": {
      "text/plain": [
       "{'LogisticWithL1': LogisticRegression(),\n",
       " 'LogisticWithNone': LogisticRegression(penalty='none'),\n",
       " 'knn': Pipeline(steps=[('scaler', StandardScaler()), ('knn', KNeighborsClassifier())]),\n",
       " 'DecisionTree': DecisionTreeClassifier(),\n",
       " 'Decison Tree with max_depth': DecisionTreeClassifier(max_depth=3)}"
      ]
     },
     "execution_count": 97,
     "metadata": {},
     "output_type": "execute_result"
    }
   ],
   "source": [
    "voting.named_estimators_"
   ]
  },
  {
   "cell_type": "markdown",
   "id": "aed50055",
   "metadata": {},
   "source": [
    "## Individual predictions"
   ]
  },
  {
   "cell_type": "code",
   "execution_count": 98,
   "id": "e66639a6",
   "metadata": {},
   "outputs": [
    {
     "data": {
      "text/plain": [
       "0.8161685786161466"
      ]
     },
     "execution_count": 98,
     "metadata": {},
     "output_type": "execute_result"
    }
   ],
   "source": [
    "y_pred_proba=voting.named_estimators_['LogisticWithL1'].predict_proba(X_tst_ohe)\n",
    "roc_auc_score(y_test,y_pred_proba[:,1])"
   ]
  },
  {
   "cell_type": "code",
   "execution_count": 99,
   "id": "8a286361",
   "metadata": {},
   "outputs": [
    {
     "data": {
      "text/plain": [
       "0.8185378696821776"
      ]
     },
     "execution_count": 99,
     "metadata": {},
     "output_type": "execute_result"
    }
   ],
   "source": [
    "y_pred_proba=voting.named_estimators_['LogisticWithNone'].predict_proba(X_tst_ohe)\n",
    "roc_auc_score(y_test,y_pred_proba[:,1])"
   ]
  },
  {
   "cell_type": "code",
   "execution_count": 100,
   "id": "195ce62b",
   "metadata": {},
   "outputs": [
    {
     "data": {
      "text/plain": [
       "0.9760233631232232"
      ]
     },
     "execution_count": 100,
     "metadata": {},
     "output_type": "execute_result"
    }
   ],
   "source": [
    "y_pred_proba=voting.named_estimators_['knn'].predict_proba(X_tst_ohe)\n",
    "roc_auc_score(y_test,y_pred_proba[:,1])"
   ]
  },
  {
   "cell_type": "code",
   "execution_count": 101,
   "id": "c6a293a2",
   "metadata": {},
   "outputs": [
    {
     "data": {
      "text/plain": [
       "0.976910927411332"
      ]
     },
     "execution_count": 101,
     "metadata": {},
     "output_type": "execute_result"
    }
   ],
   "source": [
    "y_pred_proba=voting.named_estimators_['DecisionTree'].predict_proba(X_tst_ohe)\n",
    "roc_auc_score(y_test,y_pred_proba[:,1])"
   ]
  },
  {
   "cell_type": "code",
   "execution_count": 102,
   "id": "86f3bfeb",
   "metadata": {},
   "outputs": [
    {
     "data": {
      "text/plain": [
       "0.9717655620150285"
      ]
     },
     "execution_count": 102,
     "metadata": {},
     "output_type": "execute_result"
    }
   ],
   "source": [
    "y_pred_proba=voting.named_estimators_['Decison Tree with max_depth'].predict_proba(X_tst_ohe)\n",
    "roc_auc_score(y_test,y_pred_proba[:,1])"
   ]
  },
  {
   "cell_type": "code",
   "execution_count": null,
   "id": "ab169ba5",
   "metadata": {},
   "outputs": [],
   "source": []
  }
 ],
 "metadata": {
  "kernelspec": {
   "display_name": "base",
   "language": "python",
   "name": "python3"
  },
  "language_info": {
   "codemirror_mode": {
    "name": "ipython",
    "version": 3
   },
   "file_extension": ".py",
   "mimetype": "text/x-python",
   "name": "python",
   "nbconvert_exporter": "python",
   "pygments_lexer": "ipython3",
   "version": "3.8.5"
  }
 },
 "nbformat": 4,
 "nbformat_minor": 5
}

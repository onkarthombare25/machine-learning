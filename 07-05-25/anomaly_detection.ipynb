{
 "cells": [
  {
   "cell_type": "code",
   "execution_count": 210,
   "id": "db1e1dc2",
   "metadata": {},
   "outputs": [],
   "source": [
    "import pandas as pd\n",
    "import numpy as np\n",
    "from sklearn.ensemble import IsolationForest"
   ]
  },
  {
   "cell_type": "code",
   "execution_count": 211,
   "id": "1aefa910",
   "metadata": {},
   "outputs": [
    {
     "name": "stdout",
     "output_type": "stream",
     "text": [
      "(25, 5)\n"
     ]
    },
    {
     "data": {
      "text/html": [
       "<div>\n",
       "<style scoped>\n",
       "    .dataframe tbody tr th:only-of-type {\n",
       "        vertical-align: middle;\n",
       "    }\n",
       "\n",
       "    .dataframe tbody tr th {\n",
       "        vertical-align: top;\n",
       "    }\n",
       "\n",
       "    .dataframe thead th {\n",
       "        text-align: right;\n",
       "    }\n",
       "</style>\n",
       "<table border=\"1\" class=\"dataframe\">\n",
       "  <thead>\n",
       "    <tr style=\"text-align: right;\">\n",
       "      <th></th>\n",
       "      <th>water</th>\n",
       "      <th>protein</th>\n",
       "      <th>fat</th>\n",
       "      <th>lactose</th>\n",
       "      <th>ash</th>\n",
       "    </tr>\n",
       "    <tr>\n",
       "      <th>Animal</th>\n",
       "      <th></th>\n",
       "      <th></th>\n",
       "      <th></th>\n",
       "      <th></th>\n",
       "      <th></th>\n",
       "    </tr>\n",
       "  </thead>\n",
       "  <tbody>\n",
       "    <tr>\n",
       "      <th>HORSE</th>\n",
       "      <td>90.1</td>\n",
       "      <td>2.6</td>\n",
       "      <td>1.0</td>\n",
       "      <td>6.9</td>\n",
       "      <td>0.35</td>\n",
       "    </tr>\n",
       "    <tr>\n",
       "      <th>ORANGUTAN</th>\n",
       "      <td>88.5</td>\n",
       "      <td>1.4</td>\n",
       "      <td>3.5</td>\n",
       "      <td>6.0</td>\n",
       "      <td>0.24</td>\n",
       "    </tr>\n",
       "    <tr>\n",
       "      <th>MONKEY</th>\n",
       "      <td>88.4</td>\n",
       "      <td>2.2</td>\n",
       "      <td>2.7</td>\n",
       "      <td>6.4</td>\n",
       "      <td>0.18</td>\n",
       "    </tr>\n",
       "    <tr>\n",
       "      <th>DONKEY</th>\n",
       "      <td>90.3</td>\n",
       "      <td>1.7</td>\n",
       "      <td>1.4</td>\n",
       "      <td>6.2</td>\n",
       "      <td>0.40</td>\n",
       "    </tr>\n",
       "    <tr>\n",
       "      <th>HIPPO</th>\n",
       "      <td>90.4</td>\n",
       "      <td>0.6</td>\n",
       "      <td>4.5</td>\n",
       "      <td>4.4</td>\n",
       "      <td>0.10</td>\n",
       "    </tr>\n",
       "  </tbody>\n",
       "</table>\n",
       "</div>"
      ],
      "text/plain": [
       "           water  protein  fat  lactose   ash\n",
       "Animal                                       \n",
       "HORSE       90.1      2.6  1.0      6.9  0.35\n",
       "ORANGUTAN   88.5      1.4  3.5      6.0  0.24\n",
       "MONKEY      88.4      2.2  2.7      6.4  0.18\n",
       "DONKEY      90.3      1.7  1.4      6.2  0.40\n",
       "HIPPO       90.4      0.6  4.5      4.4  0.10"
      ]
     },
     "execution_count": 211,
     "metadata": {},
     "output_type": "execute_result"
    }
   ],
   "source": [
    "milk_df=pd.read_csv(r'..\\Datasets\\milk.csv',index_col=0)\n",
    "print(milk_df.shape)\n",
    "milk_df.head()"
   ]
  },
  {
   "cell_type": "code",
   "execution_count": 212,
   "id": "eb593261",
   "metadata": {},
   "outputs": [
    {
     "data": {
      "text/plain": [
       "array([ 1,  1,  1,  1,  1,  1,  1,  1,  1,  1,  1,  1,  1,  1,  1,  1,  1,\n",
       "        1, -1,  1,  1,  1,  1, -1,  1])"
      ]
     },
     "execution_count": 212,
     "metadata": {},
     "output_type": "execute_result"
    }
   ],
   "source": [
    "clf=IsolationForest(contamination=0.05,random_state=25)\n",
    "clf.fit(milk_df)\n",
    "pred=clf.predict(milk_df)\n",
    "(pred)"
   ]
  },
  {
   "cell_type": "markdown",
   "id": "0b8da7a3",
   "metadata": {},
   "source": [
    "Amoung the above labels `-1` indicates suspected outliers"
   ]
  },
  {
   "cell_type": "markdown",
   "id": "1036b664",
   "metadata": {},
   "source": [
    "### Nutrients"
   ]
  },
  {
   "cell_type": "code",
   "execution_count": 213,
   "id": "1bf2c445",
   "metadata": {},
   "outputs": [
    {
     "data": {
      "text/html": [
       "<div>\n",
       "<style scoped>\n",
       "    .dataframe tbody tr th:only-of-type {\n",
       "        vertical-align: middle;\n",
       "    }\n",
       "\n",
       "    .dataframe tbody tr th {\n",
       "        vertical-align: top;\n",
       "    }\n",
       "\n",
       "    .dataframe thead th {\n",
       "        text-align: right;\n",
       "    }\n",
       "</style>\n",
       "<table border=\"1\" class=\"dataframe\">\n",
       "  <thead>\n",
       "    <tr style=\"text-align: right;\">\n",
       "      <th></th>\n",
       "      <th>energy</th>\n",
       "      <th>protein</th>\n",
       "      <th>fat</th>\n",
       "      <th>calcium</th>\n",
       "      <th>iron</th>\n",
       "    </tr>\n",
       "    <tr>\n",
       "      <th>Food_Item</th>\n",
       "      <th></th>\n",
       "      <th></th>\n",
       "      <th></th>\n",
       "      <th></th>\n",
       "      <th></th>\n",
       "    </tr>\n",
       "  </thead>\n",
       "  <tbody>\n",
       "    <tr>\n",
       "      <th>BEEF BRAISED</th>\n",
       "      <td>340</td>\n",
       "      <td>20</td>\n",
       "      <td>28</td>\n",
       "      <td>9</td>\n",
       "      <td>2.6</td>\n",
       "    </tr>\n",
       "    <tr>\n",
       "      <th>HAMBURGER</th>\n",
       "      <td>245</td>\n",
       "      <td>21</td>\n",
       "      <td>17</td>\n",
       "      <td>9</td>\n",
       "      <td>2.7</td>\n",
       "    </tr>\n",
       "    <tr>\n",
       "      <th>BEEF ROAST</th>\n",
       "      <td>420</td>\n",
       "      <td>15</td>\n",
       "      <td>39</td>\n",
       "      <td>7</td>\n",
       "      <td>2.0</td>\n",
       "    </tr>\n",
       "    <tr>\n",
       "      <th>BEEF STEAK</th>\n",
       "      <td>375</td>\n",
       "      <td>19</td>\n",
       "      <td>32</td>\n",
       "      <td>9</td>\n",
       "      <td>2.6</td>\n",
       "    </tr>\n",
       "    <tr>\n",
       "      <th>BEEF CANNED</th>\n",
       "      <td>180</td>\n",
       "      <td>22</td>\n",
       "      <td>10</td>\n",
       "      <td>17</td>\n",
       "      <td>3.7</td>\n",
       "    </tr>\n",
       "  </tbody>\n",
       "</table>\n",
       "</div>"
      ],
      "text/plain": [
       "              energy  protein  fat  calcium  iron\n",
       "Food_Item                                        \n",
       "BEEF BRAISED     340       20   28        9   2.6\n",
       "HAMBURGER        245       21   17        9   2.7\n",
       "BEEF ROAST       420       15   39        7   2.0\n",
       "BEEF STEAK       375       19   32        9   2.6\n",
       "BEEF CANNED      180       22   10       17   3.7"
      ]
     },
     "execution_count": 213,
     "metadata": {},
     "output_type": "execute_result"
    }
   ],
   "source": [
    "nutrients=pd.read_csv(r'..\\Datasets\\nutrient.csv',index_col=0)\n",
    "nutrients.head()"
   ]
  },
  {
   "cell_type": "code",
   "execution_count": 214,
   "id": "e341f895",
   "metadata": {},
   "outputs": [
    {
     "data": {
      "text/html": [
       "<div>\n",
       "<style scoped>\n",
       "    .dataframe tbody tr th:only-of-type {\n",
       "        vertical-align: middle;\n",
       "    }\n",
       "\n",
       "    .dataframe tbody tr th {\n",
       "        vertical-align: top;\n",
       "    }\n",
       "\n",
       "    .dataframe thead th {\n",
       "        text-align: right;\n",
       "    }\n",
       "</style>\n",
       "<table border=\"1\" class=\"dataframe\">\n",
       "  <thead>\n",
       "    <tr style=\"text-align: right;\">\n",
       "      <th></th>\n",
       "      <th>energy</th>\n",
       "      <th>protein</th>\n",
       "      <th>fat</th>\n",
       "      <th>calcium</th>\n",
       "      <th>iron</th>\n",
       "      <th>label</th>\n",
       "    </tr>\n",
       "    <tr>\n",
       "      <th>Food_Item</th>\n",
       "      <th></th>\n",
       "      <th></th>\n",
       "      <th></th>\n",
       "      <th></th>\n",
       "      <th></th>\n",
       "      <th></th>\n",
       "    </tr>\n",
       "  </thead>\n",
       "  <tbody>\n",
       "    <tr>\n",
       "      <th>BEEF ROAST</th>\n",
       "      <td>420</td>\n",
       "      <td>15</td>\n",
       "      <td>39</td>\n",
       "      <td>7</td>\n",
       "      <td>2.0</td>\n",
       "      <td>-1</td>\n",
       "    </tr>\n",
       "    <tr>\n",
       "      <th>CLAMS CANNED</th>\n",
       "      <td>45</td>\n",
       "      <td>7</td>\n",
       "      <td>1</td>\n",
       "      <td>74</td>\n",
       "      <td>5.4</td>\n",
       "      <td>-1</td>\n",
       "    </tr>\n",
       "  </tbody>\n",
       "</table>\n",
       "</div>"
      ],
      "text/plain": [
       "              energy  protein  fat  calcium  iron  label\n",
       "Food_Item                                               \n",
       "BEEF ROAST       420       15   39        7   2.0     -1\n",
       "CLAMS CANNED      45        7    1       74   5.4     -1"
      ]
     },
     "execution_count": 214,
     "metadata": {},
     "output_type": "execute_result"
    }
   ],
   "source": [
    "clf=IsolationForest(contamination=0.05,random_state=25)\n",
    "clf.fit(nutrients)\n",
    "pred=clf.predict(nutrients)\n",
    "nutrients['label']=pred\n",
    "nutrients[nutrients['label']==-1]"
   ]
  },
  {
   "cell_type": "markdown",
   "id": "f40a1d38",
   "metadata": {},
   "source": [
    "### for glass dataset"
   ]
  },
  {
   "cell_type": "code",
   "execution_count": 215,
   "id": "50f6692b",
   "metadata": {},
   "outputs": [
    {
     "data": {
      "text/html": [
       "<div>\n",
       "<style scoped>\n",
       "    .dataframe tbody tr th:only-of-type {\n",
       "        vertical-align: middle;\n",
       "    }\n",
       "\n",
       "    .dataframe tbody tr th {\n",
       "        vertical-align: top;\n",
       "    }\n",
       "\n",
       "    .dataframe thead th {\n",
       "        text-align: right;\n",
       "    }\n",
       "</style>\n",
       "<table border=\"1\" class=\"dataframe\">\n",
       "  <thead>\n",
       "    <tr style=\"text-align: right;\">\n",
       "      <th></th>\n",
       "      <th>RI</th>\n",
       "      <th>Na</th>\n",
       "      <th>Mg</th>\n",
       "      <th>Al</th>\n",
       "      <th>Si</th>\n",
       "      <th>K</th>\n",
       "      <th>Ca</th>\n",
       "      <th>Ba</th>\n",
       "      <th>Fe</th>\n",
       "      <th>Type</th>\n",
       "    </tr>\n",
       "  </thead>\n",
       "  <tbody>\n",
       "    <tr>\n",
       "      <th>0</th>\n",
       "      <td>1.52101</td>\n",
       "      <td>13.64</td>\n",
       "      <td>4.49</td>\n",
       "      <td>1.10</td>\n",
       "      <td>71.78</td>\n",
       "      <td>0.06</td>\n",
       "      <td>8.75</td>\n",
       "      <td>0.0</td>\n",
       "      <td>0.0</td>\n",
       "      <td>building_windows_float_processed</td>\n",
       "    </tr>\n",
       "    <tr>\n",
       "      <th>1</th>\n",
       "      <td>1.51761</td>\n",
       "      <td>13.89</td>\n",
       "      <td>3.60</td>\n",
       "      <td>1.36</td>\n",
       "      <td>72.73</td>\n",
       "      <td>0.48</td>\n",
       "      <td>7.83</td>\n",
       "      <td>0.0</td>\n",
       "      <td>0.0</td>\n",
       "      <td>building_windows_float_processed</td>\n",
       "    </tr>\n",
       "    <tr>\n",
       "      <th>2</th>\n",
       "      <td>1.51618</td>\n",
       "      <td>13.53</td>\n",
       "      <td>3.55</td>\n",
       "      <td>1.54</td>\n",
       "      <td>72.99</td>\n",
       "      <td>0.39</td>\n",
       "      <td>7.78</td>\n",
       "      <td>0.0</td>\n",
       "      <td>0.0</td>\n",
       "      <td>building_windows_float_processed</td>\n",
       "    </tr>\n",
       "    <tr>\n",
       "      <th>3</th>\n",
       "      <td>1.51766</td>\n",
       "      <td>13.21</td>\n",
       "      <td>3.69</td>\n",
       "      <td>1.29</td>\n",
       "      <td>72.61</td>\n",
       "      <td>0.57</td>\n",
       "      <td>8.22</td>\n",
       "      <td>0.0</td>\n",
       "      <td>0.0</td>\n",
       "      <td>building_windows_float_processed</td>\n",
       "    </tr>\n",
       "    <tr>\n",
       "      <th>4</th>\n",
       "      <td>1.51742</td>\n",
       "      <td>13.27</td>\n",
       "      <td>3.62</td>\n",
       "      <td>1.24</td>\n",
       "      <td>73.08</td>\n",
       "      <td>0.55</td>\n",
       "      <td>8.07</td>\n",
       "      <td>0.0</td>\n",
       "      <td>0.0</td>\n",
       "      <td>building_windows_float_processed</td>\n",
       "    </tr>\n",
       "  </tbody>\n",
       "</table>\n",
       "</div>"
      ],
      "text/plain": [
       "        RI     Na    Mg    Al  ...    Ca   Ba   Fe                              Type\n",
       "0  1.52101  13.64  4.49  1.10  ...  8.75  0.0  0.0  building_windows_float_processed\n",
       "1  1.51761  13.89  3.60  1.36  ...  7.83  0.0  0.0  building_windows_float_processed\n",
       "2  1.51618  13.53  3.55  1.54  ...  7.78  0.0  0.0  building_windows_float_processed\n",
       "3  1.51766  13.21  3.69  1.29  ...  8.22  0.0  0.0  building_windows_float_processed\n",
       "4  1.51742  13.27  3.62  1.24  ...  8.07  0.0  0.0  building_windows_float_processed\n",
       "\n",
       "[5 rows x 10 columns]"
      ]
     },
     "execution_count": 215,
     "metadata": {},
     "output_type": "execute_result"
    }
   ],
   "source": [
    "glass_df=pd.read_csv(r'..\\Cases\\Glass Identification\\Glass.csv')\n",
    "glass_df.head()"
   ]
  },
  {
   "cell_type": "code",
   "execution_count": 216,
   "id": "b57d9a4d",
   "metadata": {},
   "outputs": [
    {
     "data": {
      "text/html": [
       "<div>\n",
       "<style scoped>\n",
       "    .dataframe tbody tr th:only-of-type {\n",
       "        vertical-align: middle;\n",
       "    }\n",
       "\n",
       "    .dataframe tbody tr th {\n",
       "        vertical-align: top;\n",
       "    }\n",
       "\n",
       "    .dataframe thead th {\n",
       "        text-align: right;\n",
       "    }\n",
       "</style>\n",
       "<table border=\"1\" class=\"dataframe\">\n",
       "  <thead>\n",
       "    <tr style=\"text-align: right;\">\n",
       "      <th></th>\n",
       "      <th>RI</th>\n",
       "      <th>Na</th>\n",
       "      <th>Mg</th>\n",
       "      <th>Al</th>\n",
       "      <th>Si</th>\n",
       "      <th>K</th>\n",
       "      <th>Ca</th>\n",
       "      <th>Ba</th>\n",
       "      <th>Fe</th>\n",
       "    </tr>\n",
       "  </thead>\n",
       "  <tbody>\n",
       "    <tr>\n",
       "      <th>0</th>\n",
       "      <td>1.5321</td>\n",
       "      <td>14.0</td>\n",
       "      <td>0.00</td>\n",
       "      <td>0.34</td>\n",
       "      <td>70.23</td>\n",
       "      <td>0.001</td>\n",
       "      <td>6.7</td>\n",
       "      <td>1.23</td>\n",
       "      <td>0.000</td>\n",
       "    </tr>\n",
       "    <tr>\n",
       "      <th>1</th>\n",
       "      <td>1.5212</td>\n",
       "      <td>15.0</td>\n",
       "      <td>3.00</td>\n",
       "      <td>1.23</td>\n",
       "      <td>75.90</td>\n",
       "      <td>0.100</td>\n",
       "      <td>7.0</td>\n",
       "      <td>0.00</td>\n",
       "      <td>0.440</td>\n",
       "    </tr>\n",
       "    <tr>\n",
       "      <th>2</th>\n",
       "      <td>1.5112</td>\n",
       "      <td>13.0</td>\n",
       "      <td>3.50</td>\n",
       "      <td>2.30</td>\n",
       "      <td>73.00</td>\n",
       "      <td>3.400</td>\n",
       "      <td>14.0</td>\n",
       "      <td>2.30</td>\n",
       "      <td>0.220</td>\n",
       "    </tr>\n",
       "    <tr>\n",
       "      <th>3</th>\n",
       "      <td>1.5000</td>\n",
       "      <td>12.4</td>\n",
       "      <td>1.23</td>\n",
       "      <td>3.22</td>\n",
       "      <td>74.22</td>\n",
       "      <td>4.500</td>\n",
       "      <td>10.0</td>\n",
       "      <td>3.10</td>\n",
       "      <td>0.100</td>\n",
       "    </tr>\n",
       "    <tr>\n",
       "      <th>4</th>\n",
       "      <td>1.5200</td>\n",
       "      <td>13.0</td>\n",
       "      <td>2.40</td>\n",
       "      <td>0.34</td>\n",
       "      <td>71.22</td>\n",
       "      <td>3.200</td>\n",
       "      <td>9.0</td>\n",
       "      <td>1.44</td>\n",
       "      <td>0.001</td>\n",
       "    </tr>\n",
       "  </tbody>\n",
       "</table>\n",
       "</div>"
      ],
      "text/plain": [
       "       RI    Na    Mg    Al     Si      K    Ca    Ba     Fe\n",
       "0  1.5321  14.0  0.00  0.34  70.23  0.001   6.7  1.23  0.000\n",
       "1  1.5212  15.0  3.00  1.23  75.90  0.100   7.0  0.00  0.440\n",
       "2  1.5112  13.0  3.50  2.30  73.00  3.400  14.0  2.30  0.220\n",
       "3  1.5000  12.4  1.23  3.22  74.22  4.500  10.0  3.10  0.100\n",
       "4  1.5200  13.0  2.40  0.34  71.22  3.200   9.0  1.44  0.001"
      ]
     },
     "execution_count": 216,
     "metadata": {},
     "output_type": "execute_result"
    }
   ],
   "source": [
    "glass_tst_df=pd.read_csv(r'..\\Cases\\Glass Identification\\tst_Glass.csv')\n",
    "glass_tst_df.head()"
   ]
  },
  {
   "cell_type": "code",
   "execution_count": 217,
   "id": "be31181f",
   "metadata": {},
   "outputs": [],
   "source": [
    "X,y=glass_df.drop('Type',axis=1),glass_df['Type']"
   ]
  },
  {
   "cell_type": "code",
   "execution_count": 218,
   "id": "9d3c2d87",
   "metadata": {},
   "outputs": [],
   "source": [
    "clf=IsolationForest(contamination='auto',random_state=25)\n",
    "clf.fit(X)\n",
    "pred=clf.predict(X)"
   ]
  },
  {
   "cell_type": "code",
   "execution_count": 219,
   "id": "45830b8b",
   "metadata": {},
   "outputs": [
    {
     "data": {
      "text/html": [
       "<div>\n",
       "<style scoped>\n",
       "    .dataframe tbody tr th:only-of-type {\n",
       "        vertical-align: middle;\n",
       "    }\n",
       "\n",
       "    .dataframe tbody tr th {\n",
       "        vertical-align: top;\n",
       "    }\n",
       "\n",
       "    .dataframe thead th {\n",
       "        text-align: right;\n",
       "    }\n",
       "</style>\n",
       "<table border=\"1\" class=\"dataframe\">\n",
       "  <thead>\n",
       "    <tr style=\"text-align: right;\">\n",
       "      <th>label</th>\n",
       "      <th>-1</th>\n",
       "      <th>1</th>\n",
       "      <th>All</th>\n",
       "    </tr>\n",
       "    <tr>\n",
       "      <th>Type</th>\n",
       "      <th></th>\n",
       "      <th></th>\n",
       "      <th></th>\n",
       "    </tr>\n",
       "  </thead>\n",
       "  <tbody>\n",
       "    <tr>\n",
       "      <th>building_windows_float_processed</th>\n",
       "      <td>0</td>\n",
       "      <td>70</td>\n",
       "      <td>70</td>\n",
       "    </tr>\n",
       "    <tr>\n",
       "      <th>building_windows_non_float_processed</th>\n",
       "      <td>8</td>\n",
       "      <td>68</td>\n",
       "      <td>76</td>\n",
       "    </tr>\n",
       "    <tr>\n",
       "      <th>containers</th>\n",
       "      <td>5</td>\n",
       "      <td>8</td>\n",
       "      <td>13</td>\n",
       "    </tr>\n",
       "    <tr>\n",
       "      <th>headlamps</th>\n",
       "      <td>6</td>\n",
       "      <td>23</td>\n",
       "      <td>29</td>\n",
       "    </tr>\n",
       "    <tr>\n",
       "      <th>tableware</th>\n",
       "      <td>1</td>\n",
       "      <td>8</td>\n",
       "      <td>9</td>\n",
       "    </tr>\n",
       "    <tr>\n",
       "      <th>vehicle_windows_float_processed</th>\n",
       "      <td>0</td>\n",
       "      <td>17</td>\n",
       "      <td>17</td>\n",
       "    </tr>\n",
       "    <tr>\n",
       "      <th>All</th>\n",
       "      <td>20</td>\n",
       "      <td>194</td>\n",
       "      <td>214</td>\n",
       "    </tr>\n",
       "  </tbody>\n",
       "</table>\n",
       "</div>"
      ],
      "text/plain": [
       "label                                 -1    1  All\n",
       "Type                                              \n",
       "building_windows_float_processed       0   70   70\n",
       "building_windows_non_float_processed   8   68   76\n",
       "containers                             5    8   13\n",
       "headlamps                              6   23   29\n",
       "tableware                              1    8    9\n",
       "vehicle_windows_float_processed        0   17   17\n",
       "All                                   20  194  214"
      ]
     },
     "execution_count": 219,
     "metadata": {},
     "output_type": "execute_result"
    }
   ],
   "source": [
    "df_out=pd.DataFrame({'Type':list(y.values),'label':list(pred)})\n",
    "pd.crosstab(df_out['Type'],df_out['label'],margins=True)"
   ]
  },
  {
   "cell_type": "code",
   "execution_count": 220,
   "id": "c3a0b9cd",
   "metadata": {},
   "outputs": [
    {
     "data": {
      "text/plain": [
       "(194, 10)"
      ]
     },
     "execution_count": 220,
     "metadata": {},
     "output_type": "execute_result"
    }
   ],
   "source": [
    "glass_in=glass_df[df_out['label']!=-1]\n",
    "glass_in.shape"
   ]
  },
  {
   "cell_type": "code",
   "execution_count": 221,
   "id": "dea80d9b",
   "metadata": {},
   "outputs": [
    {
     "name": "stderr",
     "output_type": "stream",
     "text": [
      "C:\\Users\\dai.STUDENTSDC\\AppData\\Local\\Temp\\ipykernel_9980\\3820936452.py:3: SettingWithCopyWarning: \n",
      "A value is trying to be set on a copy of a slice from a DataFrame.\n",
      "Try using .loc[row_indexer,col_indexer] = value instead\n",
      "\n",
      "See the caveats in the documentation: https://pandas.pydata.org/pandas-docs/stable/user_guide/indexing.html#returning-a-view-versus-a-copy\n",
      "  glass_in['Type']=le.fit_transform(glass_in['Type'])\n"
     ]
    }
   ],
   "source": [
    "from sklearn.preprocessing import LabelEncoder\n",
    "le=LabelEncoder()\n",
    "glass_in['Type']=le.fit_transform(glass_in['Type'])\n",
    "X_d,y_d=glass_in.drop('Type',axis=1),glass_in['Type']"
   ]
  },
  {
   "cell_type": "markdown",
   "id": "24bf3fdc",
   "metadata": {},
   "source": [
    "## Train model with whole data"
   ]
  },
  {
   "cell_type": "code",
   "execution_count": 222,
   "id": "fb015f83",
   "metadata": {},
   "outputs": [
    {
     "data": {
      "text/plain": [
       "((214, 9), (214,))"
      ]
     },
     "execution_count": 222,
     "metadata": {},
     "output_type": "execute_result"
    }
   ],
   "source": [
    "X.shape,y.shape"
   ]
  },
  {
   "cell_type": "code",
   "execution_count": 223,
   "id": "881ac69c",
   "metadata": {},
   "outputs": [],
   "source": [
    "from sklearn.model_selection import train_test_split\n",
    "X_train,X_test,y_train,y_test=train_test_split(X,y,test_size=0.3,random_state=25,stratify=y)"
   ]
  },
  {
   "cell_type": "code",
   "execution_count": 224,
   "id": "e258f7fd",
   "metadata": {},
   "outputs": [
    {
     "name": "stdout",
     "output_type": "stream",
     "text": [
      "Accuracy:  0.7538461538461538\n",
      "Log Loss:  0.5716075632327596\n"
     ]
    }
   ],
   "source": [
    "from sklearn.metrics import accuracy_score,log_loss\n",
    "from sklearn.ensemble import RandomForestClassifier\n",
    "\n",
    "rf=RandomForestClassifier(random_state=25)\n",
    "rf.fit(X_train,y_train)\n",
    "y_pred1=rf.predict(X_test)\n",
    "y_pred_proba1=rf.predict_proba(X_test)\n",
    "print(\"Accuracy: \",accuracy_score(y_test,y_pred1))\n",
    "print(\"Log Loss: \",log_loss(y_test,y_pred_proba1))"
   ]
  },
  {
   "cell_type": "markdown",
   "id": "361cbb5e",
   "metadata": {},
   "source": [
    "## Building model without outliers"
   ]
  },
  {
   "cell_type": "code",
   "execution_count": 225,
   "id": "b455524a",
   "metadata": {},
   "outputs": [
    {
     "data": {
      "text/plain": [
       "((194, 9), (194,))"
      ]
     },
     "execution_count": 225,
     "metadata": {},
     "output_type": "execute_result"
    }
   ],
   "source": [
    "X_d.shape,y_d.shape"
   ]
  },
  {
   "cell_type": "code",
   "execution_count": 226,
   "id": "889e2334",
   "metadata": {},
   "outputs": [],
   "source": [
    "X_train_d,X_test_d,y_train_d,y_test_d=train_test_split(X_d,y_d,test_size=0.3,random_state=25,stratify=y_d)"
   ]
  },
  {
   "cell_type": "code",
   "execution_count": 227,
   "id": "3eaa116a",
   "metadata": {},
   "outputs": [
    {
     "name": "stdout",
     "output_type": "stream",
     "text": [
      "Accuracy:  0.7627118644067796\n",
      "Log Loss:  0.3538339031201463\n"
     ]
    }
   ],
   "source": [
    "rf1=RandomForestClassifier(random_state=25)\n",
    "rf1.fit(X_train_d,y_train_d)\n",
    "y_pred_d1=rf1.predict(X_test_d)\n",
    "y_pred_proba_d1=rf.predict_proba(X_test_d)\n",
    "print(\"Accuracy: \",accuracy_score(y_test_d,y_pred_d1))\n",
    "print(\"Log Loss: \",log_loss(y_test_d,y_pred_proba_d1))"
   ]
  },
  {
   "cell_type": "code",
   "execution_count": 229,
   "id": "c71fd57f",
   "metadata": {},
   "outputs": [
    {
     "data": {
      "text/plain": [
       "array([3, 1, 3, 3, 3, 3])"
      ]
     },
     "execution_count": 229,
     "metadata": {},
     "output_type": "execute_result"
    }
   ],
   "source": [
    "y_pred_d1=rf1.predict(glass_tst_df)\n",
    "y_pred_proba_d1=rf.predict_proba(glass_tst_df)\n",
    "y_pred_d1"
   ]
  },
  {
   "cell_type": "markdown",
   "id": "fd7b8447",
   "metadata": {},
   "source": [
    "## For Concrete Strength (Regression)"
   ]
  },
  {
   "cell_type": "code",
   "execution_count": 230,
   "id": "4795c2ee",
   "metadata": {},
   "outputs": [
    {
     "data": {
      "text/html": [
       "<div>\n",
       "<style scoped>\n",
       "    .dataframe tbody tr th:only-of-type {\n",
       "        vertical-align: middle;\n",
       "    }\n",
       "\n",
       "    .dataframe tbody tr th {\n",
       "        vertical-align: top;\n",
       "    }\n",
       "\n",
       "    .dataframe thead th {\n",
       "        text-align: right;\n",
       "    }\n",
       "</style>\n",
       "<table border=\"1\" class=\"dataframe\">\n",
       "  <thead>\n",
       "    <tr style=\"text-align: right;\">\n",
       "      <th></th>\n",
       "      <th>Cement</th>\n",
       "      <th>Blast</th>\n",
       "      <th>Fly</th>\n",
       "      <th>Water</th>\n",
       "      <th>Superplasticizer</th>\n",
       "      <th>Coarse</th>\n",
       "      <th>Fine</th>\n",
       "      <th>Age</th>\n",
       "      <th>Strength</th>\n",
       "    </tr>\n",
       "  </thead>\n",
       "  <tbody>\n",
       "    <tr>\n",
       "      <th>0</th>\n",
       "      <td>540.0</td>\n",
       "      <td>0.0</td>\n",
       "      <td>0.0</td>\n",
       "      <td>162.0</td>\n",
       "      <td>2.5</td>\n",
       "      <td>1040.0</td>\n",
       "      <td>676.0</td>\n",
       "      <td>28</td>\n",
       "      <td>79.99</td>\n",
       "    </tr>\n",
       "    <tr>\n",
       "      <th>1</th>\n",
       "      <td>540.0</td>\n",
       "      <td>0.0</td>\n",
       "      <td>0.0</td>\n",
       "      <td>162.0</td>\n",
       "      <td>2.5</td>\n",
       "      <td>1055.0</td>\n",
       "      <td>676.0</td>\n",
       "      <td>28</td>\n",
       "      <td>61.89</td>\n",
       "    </tr>\n",
       "    <tr>\n",
       "      <th>2</th>\n",
       "      <td>332.5</td>\n",
       "      <td>142.5</td>\n",
       "      <td>0.0</td>\n",
       "      <td>228.0</td>\n",
       "      <td>0.0</td>\n",
       "      <td>932.0</td>\n",
       "      <td>594.0</td>\n",
       "      <td>270</td>\n",
       "      <td>40.27</td>\n",
       "    </tr>\n",
       "    <tr>\n",
       "      <th>3</th>\n",
       "      <td>332.5</td>\n",
       "      <td>142.5</td>\n",
       "      <td>0.0</td>\n",
       "      <td>228.0</td>\n",
       "      <td>0.0</td>\n",
       "      <td>932.0</td>\n",
       "      <td>594.0</td>\n",
       "      <td>365</td>\n",
       "      <td>41.05</td>\n",
       "    </tr>\n",
       "    <tr>\n",
       "      <th>4</th>\n",
       "      <td>198.6</td>\n",
       "      <td>132.4</td>\n",
       "      <td>0.0</td>\n",
       "      <td>192.0</td>\n",
       "      <td>0.0</td>\n",
       "      <td>978.4</td>\n",
       "      <td>825.5</td>\n",
       "      <td>360</td>\n",
       "      <td>44.30</td>\n",
       "    </tr>\n",
       "  </tbody>\n",
       "</table>\n",
       "</div>"
      ],
      "text/plain": [
       "   Cement  Blast  Fly  Water  Superplasticizer  Coarse   Fine  Age  Strength\n",
       "0   540.0    0.0  0.0  162.0               2.5  1040.0  676.0   28     79.99\n",
       "1   540.0    0.0  0.0  162.0               2.5  1055.0  676.0   28     61.89\n",
       "2   332.5  142.5  0.0  228.0               0.0   932.0  594.0  270     40.27\n",
       "3   332.5  142.5  0.0  228.0               0.0   932.0  594.0  365     41.05\n",
       "4   198.6  132.4  0.0  192.0               0.0   978.4  825.5  360     44.30"
      ]
     },
     "execution_count": 230,
     "metadata": {},
     "output_type": "execute_result"
    }
   ],
   "source": [
    "Concrete_Data_df=pd.read_csv(r'..\\Cases\\Concrete Strength\\Concrete_Data.csv')\n",
    "Concrete_Data_df.head()"
   ]
  },
  {
   "cell_type": "code",
   "execution_count": 235,
   "id": "555d7b23",
   "metadata": {},
   "outputs": [
    {
     "data": {
      "text/html": [
       "<div>\n",
       "<style scoped>\n",
       "    .dataframe tbody tr th:only-of-type {\n",
       "        vertical-align: middle;\n",
       "    }\n",
       "\n",
       "    .dataframe tbody tr th {\n",
       "        vertical-align: top;\n",
       "    }\n",
       "\n",
       "    .dataframe thead th {\n",
       "        text-align: right;\n",
       "    }\n",
       "</style>\n",
       "<table border=\"1\" class=\"dataframe\">\n",
       "  <thead>\n",
       "    <tr style=\"text-align: right;\">\n",
       "      <th></th>\n",
       "      <th>Strength</th>\n",
       "    </tr>\n",
       "  </thead>\n",
       "  <tbody>\n",
       "    <tr>\n",
       "      <th>0</th>\n",
       "      <td>79.99</td>\n",
       "    </tr>\n",
       "    <tr>\n",
       "      <th>1</th>\n",
       "      <td>61.89</td>\n",
       "    </tr>\n",
       "    <tr>\n",
       "      <th>2</th>\n",
       "      <td>40.27</td>\n",
       "    </tr>\n",
       "    <tr>\n",
       "      <th>3</th>\n",
       "      <td>41.05</td>\n",
       "    </tr>\n",
       "    <tr>\n",
       "      <th>4</th>\n",
       "      <td>44.30</td>\n",
       "    </tr>\n",
       "    <tr>\n",
       "      <th>...</th>\n",
       "      <td>...</td>\n",
       "    </tr>\n",
       "    <tr>\n",
       "      <th>1025</th>\n",
       "      <td>44.28</td>\n",
       "    </tr>\n",
       "    <tr>\n",
       "      <th>1026</th>\n",
       "      <td>31.18</td>\n",
       "    </tr>\n",
       "    <tr>\n",
       "      <th>1027</th>\n",
       "      <td>23.70</td>\n",
       "    </tr>\n",
       "    <tr>\n",
       "      <th>1028</th>\n",
       "      <td>32.77</td>\n",
       "    </tr>\n",
       "    <tr>\n",
       "      <th>1029</th>\n",
       "      <td>32.40</td>\n",
       "    </tr>\n",
       "  </tbody>\n",
       "</table>\n",
       "<p>1030 rows × 1 columns</p>\n",
       "</div>"
      ],
      "text/plain": [
       "      Strength\n",
       "0        79.99\n",
       "1        61.89\n",
       "2        40.27\n",
       "3        41.05\n",
       "4        44.30\n",
       "...        ...\n",
       "1025     44.28\n",
       "1026     31.18\n",
       "1027     23.70\n",
       "1028     32.77\n",
       "1029     32.40\n",
       "\n",
       "[1030 rows x 1 columns]"
      ]
     },
     "execution_count": 235,
     "metadata": {},
     "output_type": "execute_result"
    }
   ],
   "source": [
    "x,y=Concrete_Data_df.drop('Strength',axis=1),Concrete_Data_df[['Strength']]\n",
    "y"
   ]
  },
  {
   "cell_type": "code",
   "execution_count": 236,
   "id": "67c0719c",
   "metadata": {},
   "outputs": [],
   "source": [
    "from sklearn.model_selection import train_test_split\n",
    "X_train,X_test,y_train,y_test=train_test_split(x,y,test_size=0.3,random_state=25)"
   ]
  },
  {
   "cell_type": "code",
   "execution_count": 237,
   "id": "cfda9a19",
   "metadata": {},
   "outputs": [
    {
     "name": "stderr",
     "output_type": "stream",
     "text": [
      "c:\\Users\\dai.STUDENTSDC\\AppData\\Local\\Programs\\Python\\Python313\\Lib\\site-packages\\sklearn\\base.py:1389: DataConversionWarning: A column-vector y was passed when a 1d array was expected. Please change the shape of y to (n_samples,), for example using ravel().\n",
      "  return fit_method(estimator, *args, **kwargs)\n"
     ]
    },
    {
     "name": "stdout",
     "output_type": "stream",
     "text": [
      "r2_score:  0.8860376553315042\n"
     ]
    }
   ],
   "source": [
    "from sklearn.metrics import accuracy_score,log_loss,r2_score\n",
    "from sklearn.ensemble import RandomForestRegressor\n",
    "\n",
    "rf=RandomForestRegressor(random_state=25)\n",
    "rf.fit(X_train,y_train)\n",
    "y_pred1=rf.predict(X_test)\n",
    "# y_pred_proba1=rf.predict_proba(X_test)\n",
    "print(\"r2_score: \",r2_score(y_test,y_pred1))"
   ]
  }
 ],
 "metadata": {
  "kernelspec": {
   "display_name": "Python 3",
   "language": "python",
   "name": "python3"
  },
  "language_info": {
   "codemirror_mode": {
    "name": "ipython",
    "version": 3
   },
   "file_extension": ".py",
   "mimetype": "text/x-python",
   "name": "python",
   "nbconvert_exporter": "python",
   "pygments_lexer": "ipython3",
   "version": "3.13.2"
  }
 },
 "nbformat": 4,
 "nbformat_minor": 5
}

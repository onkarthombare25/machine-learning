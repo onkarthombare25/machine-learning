{
 "cells": [
  {
   "cell_type": "code",
   "execution_count": 14,
   "id": "b3a8e5f9",
   "metadata": {},
   "outputs": [],
   "source": [
    "import warnings\n",
    "warnings.filterwarnings(\"ignore\")\n",
    "import pandas as pd\n",
    "import numpy as np\n",
    "from sklearn.model_selection import train_test_split\n",
    "from sklearn.linear_model import LinearRegression\n",
    "from sklearn.metrics import mean_absolute_error, mean_squared_error, r2_score\n",
    "from sklearn.preprocessing import StandardScaler\n",
    "import os\n",
    "from sklearn.preprocessing import LabelEncoder\n",
    "from sklearn.preprocessing import PolynomialFeatures"
   ]
  },
  {
   "cell_type": "code",
   "execution_count": 15,
   "id": "a05adef8",
   "metadata": {},
   "outputs": [],
   "source": [
    "house_df = pd.read_csv(r'..\\Datasets\\Housing.csv')\n",
    "house_df.head()\n",
    "dum_df = pd.get_dummies(house_df, drop_first=True)\n",
    "x,y= dum_df['lotsize'], dum_df['price']"
   ]
  },
  {
   "cell_type": "code",
   "execution_count": 16,
   "id": "d9790102",
   "metadata": {},
   "outputs": [
    {
     "data": {
      "text/html": [
       "<div>\n",
       "<style scoped>\n",
       "    .dataframe tbody tr th:only-of-type {\n",
       "        vertical-align: middle;\n",
       "    }\n",
       "\n",
       "    .dataframe tbody tr th {\n",
       "        vertical-align: top;\n",
       "    }\n",
       "\n",
       "    .dataframe thead th {\n",
       "        text-align: right;\n",
       "    }\n",
       "</style>\n",
       "<table border=\"1\" class=\"dataframe\">\n",
       "  <thead>\n",
       "    <tr style=\"text-align: right;\">\n",
       "      <th></th>\n",
       "      <th>x0</th>\n",
       "      <th>x0^2</th>\n",
       "    </tr>\n",
       "  </thead>\n",
       "  <tbody>\n",
       "    <tr>\n",
       "      <th>0</th>\n",
       "      <td>5850.0</td>\n",
       "      <td>34222500.0</td>\n",
       "    </tr>\n",
       "    <tr>\n",
       "      <th>1</th>\n",
       "      <td>4000.0</td>\n",
       "      <td>16000000.0</td>\n",
       "    </tr>\n",
       "    <tr>\n",
       "      <th>2</th>\n",
       "      <td>3060.0</td>\n",
       "      <td>9363600.0</td>\n",
       "    </tr>\n",
       "    <tr>\n",
       "      <th>3</th>\n",
       "      <td>6650.0</td>\n",
       "      <td>44222500.0</td>\n",
       "    </tr>\n",
       "    <tr>\n",
       "      <th>4</th>\n",
       "      <td>6360.0</td>\n",
       "      <td>40449600.0</td>\n",
       "    </tr>\n",
       "    <tr>\n",
       "      <th>...</th>\n",
       "      <td>...</td>\n",
       "      <td>...</td>\n",
       "    </tr>\n",
       "    <tr>\n",
       "      <th>541</th>\n",
       "      <td>4800.0</td>\n",
       "      <td>23040000.0</td>\n",
       "    </tr>\n",
       "    <tr>\n",
       "      <th>542</th>\n",
       "      <td>6000.0</td>\n",
       "      <td>36000000.0</td>\n",
       "    </tr>\n",
       "    <tr>\n",
       "      <th>543</th>\n",
       "      <td>6000.0</td>\n",
       "      <td>36000000.0</td>\n",
       "    </tr>\n",
       "    <tr>\n",
       "      <th>544</th>\n",
       "      <td>6000.0</td>\n",
       "      <td>36000000.0</td>\n",
       "    </tr>\n",
       "    <tr>\n",
       "      <th>545</th>\n",
       "      <td>6000.0</td>\n",
       "      <td>36000000.0</td>\n",
       "    </tr>\n",
       "  </tbody>\n",
       "</table>\n",
       "<p>546 rows × 2 columns</p>\n",
       "</div>"
      ],
      "text/plain": [
       "         x0        x0^2\n",
       "0    5850.0  34222500.0\n",
       "1    4000.0  16000000.0\n",
       "2    3060.0   9363600.0\n",
       "3    6650.0  44222500.0\n",
       "4    6360.0  40449600.0\n",
       "..      ...         ...\n",
       "541  4800.0  23040000.0\n",
       "542  6000.0  36000000.0\n",
       "543  6000.0  36000000.0\n",
       "544  6000.0  36000000.0\n",
       "545  6000.0  36000000.0\n",
       "\n",
       "[546 rows x 2 columns]"
      ]
     },
     "execution_count": 16,
     "metadata": {},
     "output_type": "execute_result"
    }
   ],
   "source": [
    "ply= PolynomialFeatures(degree=2,include_bias=False).set_output(transform='pandas')\n",
    "x_poly= ply.fit_transform(x.values.reshape(-1,1))\n",
    "x_poly"
   ]
  },
  {
   "cell_type": "code",
   "execution_count": 17,
   "id": "81ea3eca",
   "metadata": {},
   "outputs": [
    {
     "data": {
      "text/plain": [
       "0.3230252749747208"
      ]
     },
     "execution_count": 17,
     "metadata": {},
     "output_type": "execute_result"
    }
   ],
   "source": [
    "lr= LinearRegression()\n",
    "lr.fit(x_poly,y)\n",
    "y_pred= lr.predict(x_poly)\n",
    "r2_score(y,y_pred)"
   ]
  },
  {
   "cell_type": "markdown",
   "id": "0eade1a9",
   "metadata": {},
   "source": [
    "All variable using poly with degree 2\n"
   ]
  },
  {
   "cell_type": "code",
   "execution_count": 18,
   "id": "32e00cb5",
   "metadata": {},
   "outputs": [],
   "source": [
    "df = pd.read_csv(r'..\\Datasets\\Housing.csv')\n",
    "df.head()\n",
    "dum_df = pd.get_dummies(df, drop_first=True)\n",
    "X,y= dum_df.iloc[:,1:], dum_df['price']"
   ]
  },
  {
   "cell_type": "code",
   "execution_count": 19,
   "id": "93d54e0f",
   "metadata": {},
   "outputs": [
    {
     "data": {
      "text/html": [
       "<div>\n",
       "<style scoped>\n",
       "    .dataframe tbody tr th:only-of-type {\n",
       "        vertical-align: middle;\n",
       "    }\n",
       "\n",
       "    .dataframe tbody tr th {\n",
       "        vertical-align: top;\n",
       "    }\n",
       "\n",
       "    .dataframe thead th {\n",
       "        text-align: right;\n",
       "    }\n",
       "</style>\n",
       "<table border=\"1\" class=\"dataframe\">\n",
       "  <thead>\n",
       "    <tr style=\"text-align: right;\">\n",
       "      <th></th>\n",
       "      <th>lotsize</th>\n",
       "      <th>bedrooms</th>\n",
       "      <th>bathrms</th>\n",
       "      <th>stories</th>\n",
       "      <th>garagepl</th>\n",
       "      <th>driveway_yes</th>\n",
       "      <th>recroom_yes</th>\n",
       "      <th>fullbase_yes</th>\n",
       "      <th>gashw_yes</th>\n",
       "      <th>airco_yes</th>\n",
       "      <th>...</th>\n",
       "      <th>fullbase_yes^2</th>\n",
       "      <th>fullbase_yes gashw_yes</th>\n",
       "      <th>fullbase_yes airco_yes</th>\n",
       "      <th>fullbase_yes prefarea_yes</th>\n",
       "      <th>gashw_yes^2</th>\n",
       "      <th>gashw_yes airco_yes</th>\n",
       "      <th>gashw_yes prefarea_yes</th>\n",
       "      <th>airco_yes^2</th>\n",
       "      <th>airco_yes prefarea_yes</th>\n",
       "      <th>prefarea_yes^2</th>\n",
       "    </tr>\n",
       "  </thead>\n",
       "  <tbody>\n",
       "    <tr>\n",
       "      <th>0</th>\n",
       "      <td>5850.0</td>\n",
       "      <td>3.0</td>\n",
       "      <td>1.0</td>\n",
       "      <td>2.0</td>\n",
       "      <td>1.0</td>\n",
       "      <td>1.0</td>\n",
       "      <td>0.0</td>\n",
       "      <td>1.0</td>\n",
       "      <td>0.0</td>\n",
       "      <td>0.0</td>\n",
       "      <td>...</td>\n",
       "      <td>1.0</td>\n",
       "      <td>0.0</td>\n",
       "      <td>0.0</td>\n",
       "      <td>0.0</td>\n",
       "      <td>0.0</td>\n",
       "      <td>0.0</td>\n",
       "      <td>0.0</td>\n",
       "      <td>0.0</td>\n",
       "      <td>0.0</td>\n",
       "      <td>0.0</td>\n",
       "    </tr>\n",
       "    <tr>\n",
       "      <th>1</th>\n",
       "      <td>4000.0</td>\n",
       "      <td>2.0</td>\n",
       "      <td>1.0</td>\n",
       "      <td>1.0</td>\n",
       "      <td>0.0</td>\n",
       "      <td>1.0</td>\n",
       "      <td>0.0</td>\n",
       "      <td>0.0</td>\n",
       "      <td>0.0</td>\n",
       "      <td>0.0</td>\n",
       "      <td>...</td>\n",
       "      <td>0.0</td>\n",
       "      <td>0.0</td>\n",
       "      <td>0.0</td>\n",
       "      <td>0.0</td>\n",
       "      <td>0.0</td>\n",
       "      <td>0.0</td>\n",
       "      <td>0.0</td>\n",
       "      <td>0.0</td>\n",
       "      <td>0.0</td>\n",
       "      <td>0.0</td>\n",
       "    </tr>\n",
       "    <tr>\n",
       "      <th>2</th>\n",
       "      <td>3060.0</td>\n",
       "      <td>3.0</td>\n",
       "      <td>1.0</td>\n",
       "      <td>1.0</td>\n",
       "      <td>0.0</td>\n",
       "      <td>1.0</td>\n",
       "      <td>0.0</td>\n",
       "      <td>0.0</td>\n",
       "      <td>0.0</td>\n",
       "      <td>0.0</td>\n",
       "      <td>...</td>\n",
       "      <td>0.0</td>\n",
       "      <td>0.0</td>\n",
       "      <td>0.0</td>\n",
       "      <td>0.0</td>\n",
       "      <td>0.0</td>\n",
       "      <td>0.0</td>\n",
       "      <td>0.0</td>\n",
       "      <td>0.0</td>\n",
       "      <td>0.0</td>\n",
       "      <td>0.0</td>\n",
       "    </tr>\n",
       "    <tr>\n",
       "      <th>3</th>\n",
       "      <td>6650.0</td>\n",
       "      <td>3.0</td>\n",
       "      <td>1.0</td>\n",
       "      <td>2.0</td>\n",
       "      <td>0.0</td>\n",
       "      <td>1.0</td>\n",
       "      <td>1.0</td>\n",
       "      <td>0.0</td>\n",
       "      <td>0.0</td>\n",
       "      <td>0.0</td>\n",
       "      <td>...</td>\n",
       "      <td>0.0</td>\n",
       "      <td>0.0</td>\n",
       "      <td>0.0</td>\n",
       "      <td>0.0</td>\n",
       "      <td>0.0</td>\n",
       "      <td>0.0</td>\n",
       "      <td>0.0</td>\n",
       "      <td>0.0</td>\n",
       "      <td>0.0</td>\n",
       "      <td>0.0</td>\n",
       "    </tr>\n",
       "    <tr>\n",
       "      <th>4</th>\n",
       "      <td>6360.0</td>\n",
       "      <td>2.0</td>\n",
       "      <td>1.0</td>\n",
       "      <td>1.0</td>\n",
       "      <td>0.0</td>\n",
       "      <td>1.0</td>\n",
       "      <td>0.0</td>\n",
       "      <td>0.0</td>\n",
       "      <td>0.0</td>\n",
       "      <td>0.0</td>\n",
       "      <td>...</td>\n",
       "      <td>0.0</td>\n",
       "      <td>0.0</td>\n",
       "      <td>0.0</td>\n",
       "      <td>0.0</td>\n",
       "      <td>0.0</td>\n",
       "      <td>0.0</td>\n",
       "      <td>0.0</td>\n",
       "      <td>0.0</td>\n",
       "      <td>0.0</td>\n",
       "      <td>0.0</td>\n",
       "    </tr>\n",
       "  </tbody>\n",
       "</table>\n",
       "<p>5 rows × 77 columns</p>\n",
       "</div>"
      ],
      "text/plain": [
       "   lotsize  bedrooms  bathrms  stories  garagepl  driveway_yes  recroom_yes  \\\n",
       "0   5850.0       3.0      1.0      2.0       1.0           1.0          0.0   \n",
       "1   4000.0       2.0      1.0      1.0       0.0           1.0          0.0   \n",
       "2   3060.0       3.0      1.0      1.0       0.0           1.0          0.0   \n",
       "3   6650.0       3.0      1.0      2.0       0.0           1.0          1.0   \n",
       "4   6360.0       2.0      1.0      1.0       0.0           1.0          0.0   \n",
       "\n",
       "   fullbase_yes  gashw_yes  airco_yes  ...  fullbase_yes^2  \\\n",
       "0           1.0        0.0        0.0  ...             1.0   \n",
       "1           0.0        0.0        0.0  ...             0.0   \n",
       "2           0.0        0.0        0.0  ...             0.0   \n",
       "3           0.0        0.0        0.0  ...             0.0   \n",
       "4           0.0        0.0        0.0  ...             0.0   \n",
       "\n",
       "   fullbase_yes gashw_yes  fullbase_yes airco_yes  fullbase_yes prefarea_yes  \\\n",
       "0                     0.0                     0.0                        0.0   \n",
       "1                     0.0                     0.0                        0.0   \n",
       "2                     0.0                     0.0                        0.0   \n",
       "3                     0.0                     0.0                        0.0   \n",
       "4                     0.0                     0.0                        0.0   \n",
       "\n",
       "   gashw_yes^2  gashw_yes airco_yes  gashw_yes prefarea_yes  airco_yes^2  \\\n",
       "0          0.0                  0.0                     0.0          0.0   \n",
       "1          0.0                  0.0                     0.0          0.0   \n",
       "2          0.0                  0.0                     0.0          0.0   \n",
       "3          0.0                  0.0                     0.0          0.0   \n",
       "4          0.0                  0.0                     0.0          0.0   \n",
       "\n",
       "   airco_yes prefarea_yes  prefarea_yes^2  \n",
       "0                     0.0             0.0  \n",
       "1                     0.0             0.0  \n",
       "2                     0.0             0.0  \n",
       "3                     0.0             0.0  \n",
       "4                     0.0             0.0  \n",
       "\n",
       "[5 rows x 77 columns]"
      ]
     },
     "execution_count": 19,
     "metadata": {},
     "output_type": "execute_result"
    }
   ],
   "source": [
    "ply= PolynomialFeatures(degree=2,include_bias=False).set_output(transform='pandas')\n",
    "x_poly= ply.fit_transform(X)\n",
    "x_poly.head()"
   ]
  },
  {
   "cell_type": "code",
   "execution_count": 20,
   "id": "be9621a0",
   "metadata": {},
   "outputs": [],
   "source": [
    "x_train,x_test,y_train,y_test= train_test_split(x_poly,y,test_size=0.3,random_state=25)"
   ]
  },
  {
   "cell_type": "code",
   "execution_count": 21,
   "id": "36bcb507",
   "metadata": {},
   "outputs": [
    {
     "data": {
      "text/plain": [
       "0.5240157422081301"
      ]
     },
     "execution_count": 21,
     "metadata": {},
     "output_type": "execute_result"
    }
   ],
   "source": [
    "lr= LinearRegression()\n",
    "lr.fit(x_train,y_train)\n",
    "y_pred= lr.predict(x_test)\n",
    "r2_score(y_test,y_pred)"
   ]
  },
  {
   "cell_type": "markdown",
   "id": "1b357ab5",
   "metadata": {},
   "source": [
    "poly 3"
   ]
  },
  {
   "cell_type": "code",
   "execution_count": 22,
   "id": "b524f0c4",
   "metadata": {},
   "outputs": [
    {
     "data": {
      "text/plain": [
       "-3.26606250103172"
      ]
     },
     "execution_count": 22,
     "metadata": {},
     "output_type": "execute_result"
    }
   ],
   "source": [
    "ply= PolynomialFeatures(degree=3,include_bias=False).set_output(transform='pandas')\n",
    "x_poly= ply.fit_transform(X)\n",
    "x_poly.head()\n",
    "\n",
    "\n",
    "x_train,x_test,y_train,y_test= train_test_split(x_poly,y,test_size=0.3,random_state=25)\n",
    "\n",
    "lr= LinearRegression()\n",
    "lr.fit(x_train,y_train)\n",
    "y_pred= lr.predict(x_test)\n",
    "r2_score(y_test,y_pred)"
   ]
  },
  {
   "cell_type": "markdown",
   "id": "13105369",
   "metadata": {},
   "source": [
    "Use ridge and lasso "
   ]
  },
  {
   "cell_type": "code",
   "execution_count": 23,
   "id": "72a9d7c6",
   "metadata": {},
   "outputs": [
    {
     "data": {
      "text/plain": [
       "0.5249634711548224"
      ]
     },
     "execution_count": 23,
     "metadata": {},
     "output_type": "execute_result"
    }
   ],
   "source": [
    "from sklearn.linear_model import Ridge\n",
    "\n",
    "ply= PolynomialFeatures(degree=2,include_bias=False).set_output(transform='pandas')\n",
    "x_poly= ply.fit_transform(X)\n",
    "x_poly.head()\n",
    "\n",
    "x_train,x_test,y_train,y_test= train_test_split(x_poly,y,test_size=0.3,random_state=25)\n",
    "\n",
    "r= Ridge(0.001)\n",
    "r.fit(x_train,y_train)\n",
    "y_pred= r.predict(x_test)\n",
    "r2_score(y_test,y_pred)"
   ]
  },
  {
   "cell_type": "code",
   "execution_count": 24,
   "id": "0f30e876",
   "metadata": {},
   "outputs": [
    {
     "data": {
      "text/plain": [
       "0.5240340376589327"
      ]
     },
     "execution_count": 24,
     "metadata": {},
     "output_type": "execute_result"
    }
   ],
   "source": [
    "from sklearn.linear_model import Lasso\n",
    "ply= PolynomialFeatures(degree=2,include_bias=False).set_output(transform='pandas')\n",
    "x_poly= ply.fit_transform(X)\n",
    "x_poly.head()\n",
    "x_train,x_test,y_train,y_test= train_test_split(x_poly,y,test_size=0.3,random_state=25)\n",
    "lasso= Lasso(0.001)\n",
    "lasso.fit(x_train,y_train)\n",
    "y_pred= lasso.predict(x_test)\n",
    "r2_score(y_test,y_pred)"
   ]
  },
  {
   "cell_type": "code",
   "execution_count": 25,
   "id": "40cbacd7",
   "metadata": {},
   "outputs": [
    {
     "data": {
      "text/plain": [
       "0.6472932777981266"
      ]
     },
     "execution_count": 25,
     "metadata": {},
     "output_type": "execute_result"
    }
   ],
   "source": [
    "from sklearn.linear_model import ElasticNet\n",
    "\n",
    "ply= PolynomialFeatures(degree=2,include_bias=False).set_output(transform='pandas')\n",
    "x_poly= ply.fit_transform(X)\n",
    "x_poly.head()\n",
    "\n",
    "x_train,x_test,y_train,y_test= train_test_split(x_poly,y,test_size=0.3,random_state=25)\n",
    "\n",
    "el= ElasticNet(l1_ratio=0.95)\n",
    "el.fit(x_train,y_train)\n",
    "y_pred= el.predict(x_test)\n",
    "r2_score(y_test,y_pred)"
   ]
  },
  {
   "cell_type": "markdown",
   "id": "93fbce9b",
   "metadata": {},
   "source": [
    "Inferencing for the best model"
   ]
  },
  {
   "cell_type": "code",
   "execution_count": 26,
   "id": "e67b712a",
   "metadata": {},
   "outputs": [
    {
     "data": {
      "text/html": [
       "<div>\n",
       "<style scoped>\n",
       "    .dataframe tbody tr th:only-of-type {\n",
       "        vertical-align: middle;\n",
       "    }\n",
       "\n",
       "    .dataframe tbody tr th {\n",
       "        vertical-align: top;\n",
       "    }\n",
       "\n",
       "    .dataframe thead th {\n",
       "        text-align: right;\n",
       "    }\n",
       "</style>\n",
       "<table border=\"1\" class=\"dataframe\">\n",
       "  <thead>\n",
       "    <tr style=\"text-align: right;\">\n",
       "      <th></th>\n",
       "      <th>lotsize</th>\n",
       "      <th>bedrooms</th>\n",
       "      <th>bathrms</th>\n",
       "      <th>stories</th>\n",
       "      <th>driveway</th>\n",
       "      <th>recroom</th>\n",
       "      <th>fullbase</th>\n",
       "      <th>gashw</th>\n",
       "      <th>airco</th>\n",
       "      <th>garagepl</th>\n",
       "      <th>prefarea</th>\n",
       "    </tr>\n",
       "  </thead>\n",
       "  <tbody>\n",
       "    <tr>\n",
       "      <th>0</th>\n",
       "      <td>5600</td>\n",
       "      <td>3</td>\n",
       "      <td>1</td>\n",
       "      <td>2</td>\n",
       "      <td>yes</td>\n",
       "      <td>no</td>\n",
       "      <td>yes</td>\n",
       "      <td>no</td>\n",
       "      <td>no</td>\n",
       "      <td>1</td>\n",
       "      <td>no</td>\n",
       "    </tr>\n",
       "    <tr>\n",
       "      <th>1</th>\n",
       "      <td>4355</td>\n",
       "      <td>2</td>\n",
       "      <td>1</td>\n",
       "      <td>1</td>\n",
       "      <td>yes</td>\n",
       "      <td>no</td>\n",
       "      <td>no</td>\n",
       "      <td>no</td>\n",
       "      <td>no</td>\n",
       "      <td>0</td>\n",
       "      <td>no</td>\n",
       "    </tr>\n",
       "    <tr>\n",
       "      <th>2</th>\n",
       "      <td>3412</td>\n",
       "      <td>3</td>\n",
       "      <td>1</td>\n",
       "      <td>1</td>\n",
       "      <td>yes</td>\n",
       "      <td>no</td>\n",
       "      <td>no</td>\n",
       "      <td>no</td>\n",
       "      <td>no</td>\n",
       "      <td>0</td>\n",
       "      <td>no</td>\n",
       "    </tr>\n",
       "    <tr>\n",
       "      <th>3</th>\n",
       "      <td>6666</td>\n",
       "      <td>2</td>\n",
       "      <td>2</td>\n",
       "      <td>2</td>\n",
       "      <td>yes</td>\n",
       "      <td>yes</td>\n",
       "      <td>no</td>\n",
       "      <td>no</td>\n",
       "      <td>no</td>\n",
       "      <td>0</td>\n",
       "      <td>no</td>\n",
       "    </tr>\n",
       "  </tbody>\n",
       "</table>\n",
       "</div>"
      ],
      "text/plain": [
       "   lotsize  bedrooms  bathrms  stories driveway recroom fullbase gashw airco  \\\n",
       "0     5600         3        1        2      yes      no      yes    no    no   \n",
       "1     4355         2        1        1      yes      no       no    no    no   \n",
       "2     3412         3        1        1      yes      no       no    no    no   \n",
       "3     6666         2        2        2      yes     yes       no    no    no   \n",
       "\n",
       "   garagepl prefarea  \n",
       "0         1       no  \n",
       "1         0       no  \n",
       "2         0       no  \n",
       "3         0       no  "
      ]
     },
     "execution_count": 26,
     "metadata": {},
     "output_type": "execute_result"
    }
   ],
   "source": [
    "test_house = pd.read_csv(r'..\\Datasets\\tst_Housing.csv')\n",
    "test_house.head()"
   ]
  },
  {
   "cell_type": "code",
   "execution_count": 27,
   "id": "7bdcf656",
   "metadata": {},
   "outputs": [],
   "source": [
    "dum_df = pd.get_dummies(test_house, drop_first=True)\n",
    "x_poly_test = ply.fit_transform(dum_df)  # Generate polynomial features for the test dataset\n",
    "x_poly_test = pd.DataFrame(x_poly_test, columns=ply.get_feature_names_out(dum_df.columns))\n",
    "x_poly_test = x_poly_test.reindex(columns=x_train.columns, fill_value=0)"
   ]
  },
  {
   "cell_type": "code",
   "execution_count": 28,
   "id": "06c833fd",
   "metadata": {},
   "outputs": [
    {
     "data": {
      "text/plain": [
       "array([53376.75052323, 40250.21981131, 38658.77389732, 47730.07857022])"
      ]
     },
     "execution_count": 28,
     "metadata": {},
     "output_type": "execute_result"
    }
   ],
   "source": [
    "pred = el.predict(x_poly_test)\n",
    "pred"
   ]
  },
  {
   "cell_type": "code",
   "execution_count": null,
   "id": "72e99f3e",
   "metadata": {},
   "outputs": [],
   "source": []
  }
 ],
 "metadata": {
  "kernelspec": {
   "display_name": "base",
   "language": "python",
   "name": "python3"
  },
  "language_info": {
   "codemirror_mode": {
    "name": "ipython",
    "version": 3
   },
   "file_extension": ".py",
   "mimetype": "text/x-python",
   "name": "python",
   "nbconvert_exporter": "python",
   "pygments_lexer": "ipython3",
   "version": "3.8.5"
  }
 },
 "nbformat": 4,
 "nbformat_minor": 5
}

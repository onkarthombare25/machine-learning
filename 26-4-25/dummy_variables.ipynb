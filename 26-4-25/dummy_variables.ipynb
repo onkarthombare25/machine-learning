{
 "cells": [
  {
   "cell_type": "code",
   "execution_count": 79,
   "id": "2275fc6b",
   "metadata": {},
   "outputs": [],
   "source": [
    "import pandas as pd\n",
    "import numpy as np\n",
    "from sklearn.model_selection import train_test_split\n",
    "from sklearn.linear_model import LinearRegression\n",
    "from sklearn.metrics import mean_absolute_error, mean_squared_error, r2_score\n",
    "import os"
   ]
  },
  {
   "cell_type": "code",
   "execution_count": 80,
   "id": "c094a0e5",
   "metadata": {},
   "outputs": [
    {
     "data": {
      "text/html": [
       "<div>\n",
       "<style scoped>\n",
       "    .dataframe tbody tr th:only-of-type {\n",
       "        vertical-align: middle;\n",
       "    }\n",
       "\n",
       "    .dataframe tbody tr th {\n",
       "        vertical-align: top;\n",
       "    }\n",
       "\n",
       "    .dataframe thead th {\n",
       "        text-align: right;\n",
       "    }\n",
       "</style>\n",
       "<table border=\"1\" class=\"dataframe\">\n",
       "  <thead>\n",
       "    <tr style=\"text-align: right;\">\n",
       "      <th></th>\n",
       "      <th>Salary</th>\n",
       "      <th>Years_Previous_Experience</th>\n",
       "      <th>Years Employed</th>\n",
       "      <th>Years_Education</th>\n",
       "      <th>Gender</th>\n",
       "      <th>Department</th>\n",
       "      <th>Number_Supervised</th>\n",
       "    </tr>\n",
       "  </thead>\n",
       "  <tbody>\n",
       "    <tr>\n",
       "      <th>0</th>\n",
       "      <td>32782</td>\n",
       "      <td>1</td>\n",
       "      <td>0</td>\n",
       "      <td>7</td>\n",
       "      <td>Male</td>\n",
       "      <td>A</td>\n",
       "      <td>0</td>\n",
       "    </tr>\n",
       "    <tr>\n",
       "      <th>1</th>\n",
       "      <td>32920</td>\n",
       "      <td>3</td>\n",
       "      <td>15</td>\n",
       "      <td>9</td>\n",
       "      <td>Female</td>\n",
       "      <td>A</td>\n",
       "      <td>4</td>\n",
       "    </tr>\n",
       "    <tr>\n",
       "      <th>2</th>\n",
       "      <td>29548</td>\n",
       "      <td>6</td>\n",
       "      <td>5</td>\n",
       "      <td>1</td>\n",
       "      <td>Male</td>\n",
       "      <td>A</td>\n",
       "      <td>0</td>\n",
       "    </tr>\n",
       "    <tr>\n",
       "      <th>3</th>\n",
       "      <td>39828</td>\n",
       "      <td>6</td>\n",
       "      <td>18</td>\n",
       "      <td>5</td>\n",
       "      <td>Female</td>\n",
       "      <td>A</td>\n",
       "      <td>5</td>\n",
       "    </tr>\n",
       "    <tr>\n",
       "      <th>4</th>\n",
       "      <td>31528</td>\n",
       "      <td>11</td>\n",
       "      <td>3</td>\n",
       "      <td>3</td>\n",
       "      <td>Male</td>\n",
       "      <td>A</td>\n",
       "      <td>6</td>\n",
       "    </tr>\n",
       "  </tbody>\n",
       "</table>\n",
       "</div>"
      ],
      "text/plain": [
       "   Salary  Years_Previous_Experience  Years Employed  Years_Education  Gender  \\\n",
       "0   32782                          1               0                7    Male   \n",
       "1   32920                          3              15                9  Female   \n",
       "2   29548                          6               5                1    Male   \n",
       "3   39828                          6              18                5  Female   \n",
       "4   31528                         11               3                3    Male   \n",
       "\n",
       "  Department  Number_Supervised  \n",
       "0          A                  0  \n",
       "1          A                  4  \n",
       "2          A                  0  \n",
       "3          A                  5  \n",
       "4          A                  6  "
      ]
     },
     "execution_count": 80,
     "metadata": {},
     "output_type": "execute_result"
    }
   ],
   "source": [
    "exp_sals = pd.read_csv('..\\Datasets\\Exp_Salaries.csv')\n",
    "exp_sals.head()"
   ]
  },
  {
   "cell_type": "code",
   "execution_count": 81,
   "id": "944de4b7",
   "metadata": {},
   "outputs": [
    {
     "data": {
      "text/plain": [
       "Index(['Department'], dtype='object')"
      ]
     },
     "execution_count": 81,
     "metadata": {},
     "output_type": "execute_result"
    }
   ],
   "source": [
    "train, test = train_test_split(exp_sals, test_size=0.3, random_state=25)\n",
    "x_train = train[['Department']]\n",
    "y_train = train['Salary']\n",
    "x_test =test[['Department']]\n",
    "y_test = test['Salary']\n",
    "x_train.columns"
   ]
  },
  {
   "cell_type": "code",
   "execution_count": 82,
   "id": "1e7c3597",
   "metadata": {},
   "outputs": [
    {
     "data": {
      "text/html": [
       "<div>\n",
       "<style scoped>\n",
       "    .dataframe tbody tr th:only-of-type {\n",
       "        vertical-align: middle;\n",
       "    }\n",
       "\n",
       "    .dataframe tbody tr th {\n",
       "        vertical-align: top;\n",
       "    }\n",
       "\n",
       "    .dataframe thead th {\n",
       "        text-align: right;\n",
       "    }\n",
       "</style>\n",
       "<table border=\"1\" class=\"dataframe\">\n",
       "  <thead>\n",
       "    <tr style=\"text-align: right;\">\n",
       "      <th></th>\n",
       "      <th>Department_B</th>\n",
       "      <th>Department_C</th>\n",
       "      <th>Department_D</th>\n",
       "    </tr>\n",
       "  </thead>\n",
       "  <tbody>\n",
       "    <tr>\n",
       "      <th>42</th>\n",
       "      <td>0</td>\n",
       "      <td>0</td>\n",
       "      <td>1</td>\n",
       "    </tr>\n",
       "    <tr>\n",
       "      <th>27</th>\n",
       "      <td>0</td>\n",
       "      <td>0</td>\n",
       "      <td>1</td>\n",
       "    </tr>\n",
       "    <tr>\n",
       "      <th>10</th>\n",
       "      <td>1</td>\n",
       "      <td>0</td>\n",
       "      <td>0</td>\n",
       "    </tr>\n",
       "    <tr>\n",
       "      <th>0</th>\n",
       "      <td>0</td>\n",
       "      <td>0</td>\n",
       "      <td>0</td>\n",
       "    </tr>\n",
       "    <tr>\n",
       "      <th>33</th>\n",
       "      <td>0</td>\n",
       "      <td>0</td>\n",
       "      <td>1</td>\n",
       "    </tr>\n",
       "  </tbody>\n",
       "</table>\n",
       "</div>"
      ],
      "text/plain": [
       "    Department_B  Department_C  Department_D\n",
       "42             0             0             1\n",
       "27             0             0             1\n",
       "10             1             0             0\n",
       "0              0             0             0\n",
       "33             0             0             1"
      ]
     },
     "execution_count": 82,
     "metadata": {},
     "output_type": "execute_result"
    }
   ],
   "source": [
    "# Creating dummy vaibles for categorical data\n",
    "x_train = pd.get_dummies(x_train, drop_first=True)\n",
    "x_test = pd.get_dummies(x_test, drop_first=True)\n",
    "\n",
    "x_train.head()"
   ]
  },
  {
   "cell_type": "code",
   "execution_count": 83,
   "id": "c9720d15",
   "metadata": {},
   "outputs": [
    {
     "data": {
      "text/plain": [
       "(array([ 1607.91428571,  6143.11428571, 10861.38095238]), 32825.28571428572)"
      ]
     },
     "execution_count": 83,
     "metadata": {},
     "output_type": "execute_result"
    }
   ],
   "source": [
    "lr= LinearRegression()\n",
    "lr.fit(x_train, y_train)\n",
    "predictions = lr.predict(x_test)\n",
    "lr.coef_, lr.intercept_"
   ]
  },
  {
   "cell_type": "code",
   "execution_count": 84,
   "id": "dddac5b3",
   "metadata": {},
   "outputs": [
    {
     "data": {
      "text/plain": [
       "Department\n",
       "A    32825.285714\n",
       "B    34433.200000\n",
       "C    38968.400000\n",
       "D    43686.666667\n",
       "Name: Salary, dtype: float64"
      ]
     },
     "execution_count": 84,
     "metadata": {},
     "output_type": "execute_result"
    }
   ],
   "source": [
    "train.groupby('Department')['Salary'].mean()"
   ]
  },
  {
   "cell_type": "code",
   "execution_count": 85,
   "id": "f911784c",
   "metadata": {},
   "outputs": [
    {
     "data": {
      "text/plain": [
       "38968.399999709996"
      ]
     },
     "execution_count": 85,
     "metadata": {},
     "output_type": "execute_result"
    }
   ],
   "source": [
    "32825.285714+6143.11428571 #which is equal to department C 38968.400000 mean salary"
   ]
  },
  {
   "cell_type": "code",
   "execution_count": 86,
   "id": "988d3a8b",
   "metadata": {},
   "outputs": [
    {
     "name": "stdout",
     "output_type": "stream",
     "text": [
      "mean_absolute_error 3035.201975893409\n",
      "mean_squared_error 13382266.447559897\n",
      "r2_score 0.7913151882071023\n"
     ]
    }
   ],
   "source": [
    "train, test = train_test_split(exp_sals, test_size=0.3, random_state=25)\n",
    "x_train = train.drop(['Salary'],axis=1)\n",
    "y_train = train['Salary']\n",
    "x_test =test.drop(['Salary'],axis=1)\n",
    "y_test = test['Salary']\n",
    "x_train.columns\n",
    "\n",
    "# Creating dummy vaibles for categorical data\n",
    "x_train = pd.get_dummies(x_train, drop_first=True)\n",
    "x_test = pd.get_dummies(x_test, drop_first=True)\n",
    "\n",
    "x_train.head()\n",
    "\n",
    "lr= LinearRegression()\n",
    "lr.fit(x_train, y_train)\n",
    "y_pred = lr.predict(x_test)\n",
    "lr.coef_, lr.intercept_\n",
    "lr.score(x_test, y_test)\n",
    "print(\"mean_absolute_error\",mean_absolute_error(y_test, y_pred))\n",
    "print(\"mean_squared_error\",mean_squared_error(y_test, y_pred))\n",
    "print(\"r2_score\",r2_score(y_test, y_pred))"
   ]
  },
  {
   "cell_type": "code",
   "execution_count": 87,
   "id": "fb015efb",
   "metadata": {},
   "outputs": [
    {
     "name": "stdout",
     "output_type": "stream",
     "text": [
      "mean_absolute_error 3077.6309933789275\n",
      "mean_squared_error 15725619.94169175\n",
      "r2_score 0.7547726275875368\n"
     ]
    }
   ],
   "source": [
    "from sklearn.linear_model import Ridge\n",
    "ridge=Ridge()\n",
    "ridge.fit(x_train,y_train)\n",
    "y_pred = ridge.predict(x_test)\n",
    "print(\"mean_absolute_error\",mean_absolute_error(y_test, y_pred))\n",
    "print(\"mean_squared_error\",mean_squared_error(y_test, y_pred))\n",
    "print(\"r2_score\",r2_score(y_test, y_pred))"
   ]
  },
  {
   "cell_type": "code",
   "execution_count": 88,
   "id": "c2aa0afe",
   "metadata": {},
   "outputs": [
    {
     "name": "stdout",
     "output_type": "stream",
     "text": [
      "mean_absolute_error 3034.6942984843067\n",
      "mean_squared_error 13388233.65128942\n",
      "r2_score 0.7912221348523432\n"
     ]
    }
   ],
   "source": [
    "from sklearn.linear_model import Lasso\n",
    "lassoo=Lasso()\n",
    "lassoo.fit(x_train,y_train)\n",
    "y_pred = lassoo.predict(x_test)\n",
    "print(\"mean_absolute_error\",mean_absolute_error(y_test, y_pred))\n",
    "print(\"mean_squared_error\",mean_squared_error(y_test, y_pred))\n",
    "print(\"r2_score\",r2_score(y_test, y_pred))"
   ]
  },
  {
   "cell_type": "code",
   "execution_count": 89,
   "id": "b21ff0d0",
   "metadata": {},
   "outputs": [
    {
     "data": {
      "text/plain": [
       "((32, 8), (14, 8), (32,), (14,))"
      ]
     },
     "execution_count": 89,
     "metadata": {},
     "output_type": "execute_result"
    }
   ],
   "source": [
    "exp_sals = pd.read_csv('..\\Datasets\\Exp_Salaries.csv')\n",
    "dum_sals= pd.get_dummies(exp_sals, drop_first=True)\n",
    "x , y = dum_sals.drop(['Salary'],axis=1), dum_sals['Salary']\n",
    "x_train, x_test, y_train, y_test = train_test_split(x,y,test_size=0.3, random_state=25)\n",
    "x_train.shape, x_test.shape, y_train.shape, y_test.shape\n"
   ]
  },
  {
   "cell_type": "code",
   "execution_count": 90,
   "id": "6cf807ef",
   "metadata": {},
   "outputs": [
    {
     "name": "stdout",
     "output_type": "stream",
     "text": [
      "\n",
      "alpha 0.001\n",
      "mean_absolute_error 3035.260687473495\n",
      "mean_squared_error 13384006.574833676\n",
      "r2_score 0.7912880524349932\n",
      "\n",
      "alpha 0.01\n",
      "mean_absolute_error 3035.7869256459476\n",
      "mean_squared_error 13399863.710643621\n",
      "r2_score 0.7910407741869445\n",
      "\n",
      "alpha 0.1\n",
      "mean_absolute_error 3040.845201367156\n",
      "mean_squared_error 13575141.982655851\n",
      "r2_score 0.7883074619076239\n",
      "\n",
      "alpha 1\n",
      "mean_absolute_error 3077.6309933789275\n",
      "mean_squared_error 15725619.94169175\n",
      "r2_score 0.7547726275875368\n",
      "\n",
      "alpha 2\n",
      "mean_absolute_error 3102.651772553139\n",
      "mean_squared_error 17621349.385784306\n",
      "r2_score 0.725210374900299\n"
     ]
    }
   ],
   "source": [
    "from sklearn.linear_model import Ridge\n",
    "alpha_set=[0.001,0.01,0.1,1,2]\n",
    "# 0.001 is the alpha value which is the regularization parameter\n",
    "for i in alpha_set:\n",
    "    ridge=Ridge(alpha=i)\n",
    "    ridge.fit(x_train,y_train)\n",
    "    y_pred = ridge.predict(x_test)\n",
    "    print(\"\\nalpha\",i)\n",
    "    print(\"mean_absolute_error\",mean_absolute_error(y_test, y_pred))\n",
    "    print(\"mean_squared_error\",mean_squared_error(y_test, y_pred))\n",
    "    print(\"r2_score\",r2_score(y_test, y_pred))"
   ]
  },
  {
   "cell_type": "code",
   "execution_count": 91,
   "id": "33077861",
   "metadata": {},
   "outputs": [
    {
     "name": "stdout",
     "output_type": "stream",
     "text": [
      "\n",
      "alpha 0.001\n",
      "mean_absolute_error 3035.201445505047\n",
      "mean_squared_error 13382272.25746991\n",
      "r2_score 0.7913150976066063\n",
      "\n",
      "alpha"
     ]
    },
    {
     "name": "stdout",
     "output_type": "stream",
     "text": [
      " 0.01\n",
      "mean_absolute_error 3035.196888779153\n",
      "mean_squared_error 13382325.309251424\n",
      "r2_score 0.7913142703101925\n",
      "\n",
      "alpha 0.1\n",
      "mean_absolute_error 3035.1490524531728\n",
      "mean_squared_error 13382848.624840334\n",
      "r2_score 0.7913061096585117\n",
      "\n",
      "alpha 1\n",
      "mean_absolute_error 3034.6942984843067\n",
      "mean_squared_error 13388233.65128942\n",
      "r2_score 0.7912221348523432\n",
      "\n",
      "alpha 2\n",
      "mean_absolute_error 3034.2108127988536\n",
      "mean_squared_error 13394439.83306512\n",
      "r2_score 0.7911253548427022\n"
     ]
    }
   ],
   "source": [
    "from sklearn.linear_model import Lasso\n",
    "alpha_set=[0.001,0.01,0.1,1,2]\n",
    "# 0.001 is the alpha value which is the regularization parameter\n",
    "for i in alpha_set:\n",
    "    ridge=Lasso(alpha=i)\n",
    "    ridge.fit(x_train,y_train)\n",
    "    y_pred = ridge.predict(x_test)\n",
    "    print(\"\\nalpha\",i)\n",
    "    print(\"mean_absolute_error\",mean_absolute_error(y_test, y_pred))\n",
    "    print(\"mean_squared_error\",mean_squared_error(y_test, y_pred))\n",
    "    print(\"r2_score\",r2_score(y_test, y_pred))"
   ]
  },
  {
   "cell_type": "code",
   "execution_count": 92,
   "id": "20428430",
   "metadata": {},
   "outputs": [],
   "source": [
    "#Elastic net regression\n",
    "from sklearn.linear_model import ElasticNet\n",
    "\n",
    "#Testing different alpha values and l1_ratio values to find the best combination.\n",
    "ration=[0.01,0.25,0.5,0.75,0.9]\n",
    "alpha_set=[0.001,0.01,0.1,0.5,1,2] \n",
    "scores=[]\n",
    "for i in alpha_set:\n",
    "    for j in ration:\n",
    "        el=ElasticNet(alpha=i, l1_ratio=j,random_state=25)\n",
    "        el.fit(x_train,y_train)\n",
    "        y_pred = el.predict(x_test)\n",
    "        scores.append([j,i,r2_score(y_test, y_pred)])\n",
    "scores=pd.DataFrame(scores, columns=['ratio','alpha','r2_score'])"
   ]
  },
  {
   "cell_type": "code",
   "execution_count": 93,
   "id": "4af0440c",
   "metadata": {},
   "outputs": [
    {
     "data": {
      "text/html": [
       "<div>\n",
       "<style scoped>\n",
       "    .dataframe tbody tr th:only-of-type {\n",
       "        vertical-align: middle;\n",
       "    }\n",
       "\n",
       "    .dataframe tbody tr th {\n",
       "        vertical-align: top;\n",
       "    }\n",
       "\n",
       "    .dataframe thead th {\n",
       "        text-align: right;\n",
       "    }\n",
       "</style>\n",
       "<table border=\"1\" class=\"dataframe\">\n",
       "  <thead>\n",
       "    <tr style=\"text-align: right;\">\n",
       "      <th></th>\n",
       "      <th>ratio</th>\n",
       "      <th>alpha</th>\n",
       "      <th>r2_score</th>\n",
       "    </tr>\n",
       "  </thead>\n",
       "  <tbody>\n",
       "    <tr>\n",
       "      <th>4</th>\n",
       "      <td>0.90</td>\n",
       "      <td>0.001</td>\n",
       "      <td>0.791228</td>\n",
       "    </tr>\n",
       "    <tr>\n",
       "      <th>3</th>\n",
       "      <td>0.75</td>\n",
       "      <td>0.001</td>\n",
       "      <td>0.791096</td>\n",
       "    </tr>\n",
       "    <tr>\n",
       "      <th>2</th>\n",
       "      <td>0.50</td>\n",
       "      <td>0.001</td>\n",
       "      <td>0.790873</td>\n",
       "    </tr>\n",
       "    <tr>\n",
       "      <th>1</th>\n",
       "      <td>0.25</td>\n",
       "      <td>0.001</td>\n",
       "      <td>0.790646</td>\n",
       "    </tr>\n",
       "    <tr>\n",
       "      <th>0</th>\n",
       "      <td>0.01</td>\n",
       "      <td>0.001</td>\n",
       "      <td>0.790424</td>\n",
       "    </tr>\n",
       "    <tr>\n",
       "      <th>9</th>\n",
       "      <td>0.90</td>\n",
       "      <td>0.010</td>\n",
       "      <td>0.790413</td>\n",
       "    </tr>\n",
       "    <tr>\n",
       "      <th>8</th>\n",
       "      <td>0.75</td>\n",
       "      <td>0.010</td>\n",
       "      <td>0.788950</td>\n",
       "    </tr>\n",
       "    <tr>\n",
       "      <th>7</th>\n",
       "      <td>0.50</td>\n",
       "      <td>0.010</td>\n",
       "      <td>0.786279</td>\n",
       "    </tr>\n",
       "    <tr>\n",
       "      <th>6</th>\n",
       "      <td>0.25</td>\n",
       "      <td>0.010</td>\n",
       "      <td>0.783405</td>\n",
       "    </tr>\n",
       "    <tr>\n",
       "      <th>5</th>\n",
       "      <td>0.01</td>\n",
       "      <td>0.010</td>\n",
       "      <td>0.780524</td>\n",
       "    </tr>\n",
       "  </tbody>\n",
       "</table>\n",
       "</div>"
      ],
      "text/plain": [
       "   ratio  alpha  r2_score\n",
       "4   0.90  0.001  0.791228\n",
       "3   0.75  0.001  0.791096\n",
       "2   0.50  0.001  0.790873\n",
       "1   0.25  0.001  0.790646\n",
       "0   0.01  0.001  0.790424\n",
       "9   0.90  0.010  0.790413\n",
       "8   0.75  0.010  0.788950\n",
       "7   0.50  0.010  0.786279\n",
       "6   0.25  0.010  0.783405\n",
       "5   0.01  0.010  0.780524"
      ]
     },
     "execution_count": 93,
     "metadata": {},
     "output_type": "execute_result"
    }
   ],
   "source": [
    "scores.sort_values(by='r2_score', ascending=False).head(10)"
   ]
  },
  {
   "cell_type": "markdown",
   "id": "21ae51c4",
   "metadata": {},
   "source": [
    "## Inferencing\n",
    "\n"
   ]
  },
  {
   "cell_type": "code",
   "execution_count": 97,
   "id": "dc24e1b8",
   "metadata": {},
   "outputs": [
    {
     "data": {
      "text/html": [
       "<div>\n",
       "<style scoped>\n",
       "    .dataframe tbody tr th:only-of-type {\n",
       "        vertical-align: middle;\n",
       "    }\n",
       "\n",
       "    .dataframe tbody tr th {\n",
       "        vertical-align: top;\n",
       "    }\n",
       "\n",
       "    .dataframe thead th {\n",
       "        text-align: right;\n",
       "    }\n",
       "</style>\n",
       "<table border=\"1\" class=\"dataframe\">\n",
       "  <thead>\n",
       "    <tr style=\"text-align: right;\">\n",
       "      <th></th>\n",
       "      <th>Years_Previous_Experience</th>\n",
       "      <th>Years_Employed</th>\n",
       "      <th>Years_Education</th>\n",
       "      <th>Gender</th>\n",
       "      <th>Department</th>\n",
       "      <th>Number_Supervised</th>\n",
       "    </tr>\n",
       "  </thead>\n",
       "  <tbody>\n",
       "    <tr>\n",
       "      <th>0</th>\n",
       "      <td>2</td>\n",
       "      <td>4</td>\n",
       "      <td>12</td>\n",
       "      <td>Male</td>\n",
       "      <td>A</td>\n",
       "      <td>8</td>\n",
       "    </tr>\n",
       "    <tr>\n",
       "      <th>1</th>\n",
       "      <td>5</td>\n",
       "      <td>4</td>\n",
       "      <td>7</td>\n",
       "      <td>Male</td>\n",
       "      <td>A</td>\n",
       "      <td>1</td>\n",
       "    </tr>\n",
       "  </tbody>\n",
       "</table>\n",
       "</div>"
      ],
      "text/plain": [
       "   Years_Previous_Experience  Years_Employed  Years_Education Gender  \\\n",
       "0                          2               4               12   Male   \n",
       "1                          5               4                7   Male   \n",
       "\n",
       "  Department  Number_Supervised  \n",
       "0          A                  8  \n",
       "1          A                  1  "
      ]
     },
     "execution_count": 97,
     "metadata": {},
     "output_type": "execute_result"
    }
   ],
   "source": [
    "test_sals = pd.read_csv('..\\Datasets\\SalsToPredict.csv')\n",
    "x = pd.get_dummies(train.drop(['Salary'], axis=1), drop_first=True)\n",
    "y = train['Salary']\n",
    "test_sals.head(2)"
   ]
  },
  {
   "cell_type": "code",
   "execution_count": 98,
   "id": "9740f33d",
   "metadata": {},
   "outputs": [
    {
     "data": {
      "text/html": [
       "<div>\n",
       "<style scoped>\n",
       "    .dataframe tbody tr th:only-of-type {\n",
       "        vertical-align: middle;\n",
       "    }\n",
       "\n",
       "    .dataframe tbody tr th {\n",
       "        vertical-align: top;\n",
       "    }\n",
       "\n",
       "    .dataframe thead th {\n",
       "        text-align: right;\n",
       "    }\n",
       "</style>\n",
       "<table border=\"1\" class=\"dataframe\">\n",
       "  <thead>\n",
       "    <tr style=\"text-align: right;\">\n",
       "      <th></th>\n",
       "      <th>Years_Previous_Experience</th>\n",
       "      <th>Years Employed</th>\n",
       "      <th>Years_Education</th>\n",
       "      <th>Number_Supervised</th>\n",
       "      <th>Gender_Male</th>\n",
       "      <th>Department_B</th>\n",
       "      <th>Department_C</th>\n",
       "      <th>Department_D</th>\n",
       "    </tr>\n",
       "  </thead>\n",
       "  <tbody>\n",
       "    <tr>\n",
       "      <th>0</th>\n",
       "      <td>2</td>\n",
       "      <td>0</td>\n",
       "      <td>12</td>\n",
       "      <td>8</td>\n",
       "      <td>1</td>\n",
       "      <td>0</td>\n",
       "      <td>0</td>\n",
       "      <td>0</td>\n",
       "    </tr>\n",
       "    <tr>\n",
       "      <th>1</th>\n",
       "      <td>5</td>\n",
       "      <td>0</td>\n",
       "      <td>7</td>\n",
       "      <td>1</td>\n",
       "      <td>1</td>\n",
       "      <td>0</td>\n",
       "      <td>0</td>\n",
       "      <td>0</td>\n",
       "    </tr>\n",
       "  </tbody>\n",
       "</table>\n",
       "</div>"
      ],
      "text/plain": [
       "   Years_Previous_Experience  Years Employed  Years_Education  \\\n",
       "0                          2               0               12   \n",
       "1                          5               0                7   \n",
       "\n",
       "   Number_Supervised  Gender_Male  Department_B  Department_C  Department_D  \n",
       "0                  8            1             0             0             0  \n",
       "1                  1            1             0             0             0  "
      ]
     },
     "execution_count": 98,
     "metadata": {},
     "output_type": "execute_result"
    }
   ],
   "source": [
    "dum_tst = pd.get_dummies(test_sals, drop_first=True)\n",
    "dum_tst = dum_tst.reindex(columns=x.columns, fill_value=0)\n",
    "dum_tst.head(2)"
   ]
  },
  {
   "cell_type": "code",
   "execution_count": 96,
   "id": "6315a585",
   "metadata": {},
   "outputs": [
    {
     "data": {
      "text/plain": [
       "array([38988.71517446, 30208.77760193, 39089.4450353 , 32483.78051564,\n",
       "       27048.86760531, 43439.82974851, 40346.66423037, 34450.86743864,\n",
       "       45555.61720493, 30224.57773414, 27195.03420328, 29573.68743956,\n",
       "       32090.54814502, 44142.15917615, 37791.99820512])"
      ]
     },
     "execution_count": 96,
     "metadata": {},
     "output_type": "execute_result"
    }
   ],
   "source": [
    "e1 = ElasticNet(alpha=0.001, l1_ratio=0.9, random_state=25)\n",
    "e1.fit(x, y)\n",
    "\n",
    "# Predicting the salary for the test data\n",
    "y_pred = e1.predict(dum_tst)\n",
    "y_pred"
   ]
  },
  {
   "cell_type": "code",
   "execution_count": null,
   "id": "53886d95",
   "metadata": {},
   "outputs": [],
   "source": []
  }
 ],
 "metadata": {
  "kernelspec": {
   "display_name": "base",
   "language": "python",
   "name": "python3"
  },
  "language_info": {
   "codemirror_mode": {
    "name": "ipython",
    "version": 3
   },
   "file_extension": ".py",
   "mimetype": "text/x-python",
   "name": "python",
   "nbconvert_exporter": "python",
   "pygments_lexer": "ipython3",
   "version": "3.8.5"
  }
 },
 "nbformat": 4,
 "nbformat_minor": 5
}

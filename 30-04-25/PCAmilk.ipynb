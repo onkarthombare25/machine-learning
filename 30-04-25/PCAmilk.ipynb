{
 "cells": [
  {
   "cell_type": "code",
   "execution_count": 10,
   "id": "c565eb7b",
   "metadata": {},
   "outputs": [],
   "source": [
    "import pandas as pd\n",
    "import numpy as np\n",
    "import os\n",
    "from sklearn.decomposition import PCA"
   ]
  },
  {
   "cell_type": "code",
   "execution_count": 11,
   "id": "679d63ec",
   "metadata": {},
   "outputs": [
    {
     "data": {
      "text/html": [
       "<div>\n",
       "<style scoped>\n",
       "    .dataframe tbody tr th:only-of-type {\n",
       "        vertical-align: middle;\n",
       "    }\n",
       "\n",
       "    .dataframe tbody tr th {\n",
       "        vertical-align: top;\n",
       "    }\n",
       "\n",
       "    .dataframe thead th {\n",
       "        text-align: right;\n",
       "    }\n",
       "</style>\n",
       "<table border=\"1\" class=\"dataframe\">\n",
       "  <thead>\n",
       "    <tr style=\"text-align: right;\">\n",
       "      <th></th>\n",
       "      <th>water</th>\n",
       "      <th>protein</th>\n",
       "      <th>fat</th>\n",
       "      <th>lactose</th>\n",
       "      <th>ash</th>\n",
       "    </tr>\n",
       "    <tr>\n",
       "      <th>Animal</th>\n",
       "      <th></th>\n",
       "      <th></th>\n",
       "      <th></th>\n",
       "      <th></th>\n",
       "      <th></th>\n",
       "    </tr>\n",
       "  </thead>\n",
       "  <tbody>\n",
       "    <tr>\n",
       "      <th>HORSE</th>\n",
       "      <td>90.1</td>\n",
       "      <td>2.6</td>\n",
       "      <td>1.0</td>\n",
       "      <td>6.9</td>\n",
       "      <td>0.35</td>\n",
       "    </tr>\n",
       "    <tr>\n",
       "      <th>ORANGUTAN</th>\n",
       "      <td>88.5</td>\n",
       "      <td>1.4</td>\n",
       "      <td>3.5</td>\n",
       "      <td>6.0</td>\n",
       "      <td>0.24</td>\n",
       "    </tr>\n",
       "    <tr>\n",
       "      <th>MONKEY</th>\n",
       "      <td>88.4</td>\n",
       "      <td>2.2</td>\n",
       "      <td>2.7</td>\n",
       "      <td>6.4</td>\n",
       "      <td>0.18</td>\n",
       "    </tr>\n",
       "    <tr>\n",
       "      <th>DONKEY</th>\n",
       "      <td>90.3</td>\n",
       "      <td>1.7</td>\n",
       "      <td>1.4</td>\n",
       "      <td>6.2</td>\n",
       "      <td>0.40</td>\n",
       "    </tr>\n",
       "    <tr>\n",
       "      <th>HIPPO</th>\n",
       "      <td>90.4</td>\n",
       "      <td>0.6</td>\n",
       "      <td>4.5</td>\n",
       "      <td>4.4</td>\n",
       "      <td>0.10</td>\n",
       "    </tr>\n",
       "  </tbody>\n",
       "</table>\n",
       "</div>"
      ],
      "text/plain": [
       "           water  protein  fat  lactose   ash\n",
       "Animal                                       \n",
       "HORSE       90.1      2.6  1.0      6.9  0.35\n",
       "ORANGUTAN   88.5      1.4  3.5      6.0  0.24\n",
       "MONKEY      88.4      2.2  2.7      6.4  0.18\n",
       "DONKEY      90.3      1.7  1.4      6.2  0.40\n",
       "HIPPO       90.4      0.6  4.5      4.4  0.10"
      ]
     },
     "execution_count": 11,
     "metadata": {},
     "output_type": "execute_result"
    }
   ],
   "source": [
    "milk=pd.read_csv(r'..\\Datasets\\milk.csv',index_col=0)\n",
    "milk.head()"
   ]
  },
  {
   "cell_type": "code",
   "execution_count": 12,
   "id": "9cb6a825",
   "metadata": {},
   "outputs": [],
   "source": [
    "prcomp=PCA().set_output(transform='pandas')\n"
   ]
  },
  {
   "cell_type": "code",
   "execution_count": 13,
   "id": "f6fe3a79",
   "metadata": {},
   "outputs": [
    {
     "data": {
      "text/plain": [
       "pca0    282.167328\n",
       "pca1      8.134316\n",
       "pca2      1.203587\n",
       "pca3      0.305746\n",
       "pca4      0.067737\n",
       "dtype: float64"
      ]
     },
     "execution_count": 13,
     "metadata": {},
     "output_type": "execute_result"
    }
   ],
   "source": [
    "compinents= prcomp.fit_transform(milk)\n",
    "compinents.var()"
   ]
  },
  {
   "cell_type": "code",
   "execution_count": 14,
   "id": "c06185db",
   "metadata": {},
   "outputs": [
    {
     "data": {
      "text/html": [
       "<div>\n",
       "<style scoped>\n",
       "    .dataframe tbody tr th:only-of-type {\n",
       "        vertical-align: middle;\n",
       "    }\n",
       "\n",
       "    .dataframe tbody tr th {\n",
       "        vertical-align: top;\n",
       "    }\n",
       "\n",
       "    .dataframe thead th {\n",
       "        text-align: right;\n",
       "    }\n",
       "</style>\n",
       "<table border=\"1\" class=\"dataframe\">\n",
       "  <thead>\n",
       "    <tr style=\"text-align: right;\">\n",
       "      <th></th>\n",
       "      <th>water</th>\n",
       "      <th>protein</th>\n",
       "      <th>fat</th>\n",
       "      <th>lactose</th>\n",
       "      <th>ash</th>\n",
       "    </tr>\n",
       "  </thead>\n",
       "  <tbody>\n",
       "    <tr>\n",
       "      <th>water</th>\n",
       "      <td>164.298900</td>\n",
       "      <td>-35.383133</td>\n",
       "      <td>-132.374450</td>\n",
       "      <td>20.284283</td>\n",
       "      <td>-2.776572</td>\n",
       "    </tr>\n",
       "    <tr>\n",
       "      <th>protein</th>\n",
       "      <td>-35.383133</td>\n",
       "      <td>13.341100</td>\n",
       "      <td>25.260317</td>\n",
       "      <td>-5.634983</td>\n",
       "      <td>1.486418</td>\n",
       "    </tr>\n",
       "    <tr>\n",
       "      <th>fat</th>\n",
       "      <td>-132.374450</td>\n",
       "      <td>25.260317</td>\n",
       "      <td>110.628267</td>\n",
       "      <td>-16.204433</td>\n",
       "      <td>1.723848</td>\n",
       "    </tr>\n",
       "    <tr>\n",
       "      <th>lactose</th>\n",
       "      <td>20.284283</td>\n",
       "      <td>-5.634983</td>\n",
       "      <td>-16.204433</td>\n",
       "      <td>3.355600</td>\n",
       "      <td>-0.554523</td>\n",
       "    </tr>\n",
       "    <tr>\n",
       "      <th>ash</th>\n",
       "      <td>-2.776572</td>\n",
       "      <td>1.486418</td>\n",
       "      <td>1.723848</td>\n",
       "      <td>-0.554523</td>\n",
       "      <td>0.254848</td>\n",
       "    </tr>\n",
       "  </tbody>\n",
       "</table>\n",
       "</div>"
      ],
      "text/plain": [
       "              water    protein         fat    lactose       ash\n",
       "water    164.298900 -35.383133 -132.374450  20.284283 -2.776572\n",
       "protein  -35.383133  13.341100   25.260317  -5.634983  1.486418\n",
       "fat     -132.374450  25.260317  110.628267 -16.204433  1.723848\n",
       "lactose   20.284283  -5.634983  -16.204433   3.355600 -0.554523\n",
       "ash       -2.776572   1.486418    1.723848  -0.554523  0.254848"
      ]
     },
     "execution_count": 14,
     "metadata": {},
     "output_type": "execute_result"
    }
   ],
   "source": [
    "milk.cov()"
   ]
  },
  {
   "cell_type": "code",
   "execution_count": 15,
   "id": "6d42fb77",
   "metadata": {},
   "outputs": [
    {
     "data": {
      "text/plain": [
       "(array([2.82167328e+02, 8.13431563e+00, 1.20358727e+00, 3.05746432e-01,\n",
       "        6.77367465e-02]),\n",
       " array([[-0.76163901,  0.15607203,  0.57443881, -0.25593731, -0.00798022],\n",
       "        [ 0.16060436, -0.85368037,  0.26796098, -0.39275281, -0.13920564],\n",
       "        [ 0.62047078,  0.44299977,  0.5524443 , -0.33676547,  0.01270931],\n",
       "        [-0.09474321,  0.18224371, -0.53829678, -0.816355  ,  0.04015019],\n",
       "        [ 0.01232867, -0.13194613,  0.05708616, -0.01987089,  0.9893354 ]]))"
      ]
     },
     "execution_count": 15,
     "metadata": {},
     "output_type": "execute_result"
    }
   ],
   "source": [
    "np.linalg.eig(milk.cov())"
   ]
  },
  {
   "cell_type": "markdown",
   "id": "d1bdb7cf",
   "metadata": {},
   "source": [
    "variance of critical principal component are eigen values of variance covarience matrix of that data"
   ]
  },
  {
   "cell_type": "code",
   "execution_count": 16,
   "id": "b79f999b",
   "metadata": {},
   "outputs": [
    {
     "data": {
      "text/plain": [
       "array([2.82167328e+02, 8.13431563e+00, 1.20358727e+00, 3.05746432e-01,\n",
       "       6.77367465e-02])"
      ]
     },
     "execution_count": 16,
     "metadata": {},
     "output_type": "execute_result"
    }
   ],
   "source": [
    "prcomp.explained_variance_"
   ]
  },
  {
   "cell_type": "markdown",
   "id": "3b699619",
   "metadata": {},
   "source": [
    "calculating "
   ]
  },
  {
   "cell_type": "code",
   "execution_count": null,
   "id": "eeaf15cd",
   "metadata": {},
   "outputs": [
    {
     "data": {
      "text/plain": [
       "291.8787143333331"
      ]
     },
     "execution_count": 19,
     "metadata": {},
     "output_type": "execute_result"
    }
   ],
   "source": [
    "# calculating sum of variations\n",
    "total_var = np.sum(prcomp.explained_variance_)\n",
    "total_var"
   ]
  },
  {
   "cell_type": "code",
   "execution_count": null,
   "id": "e8b4fb05",
   "metadata": {},
   "outputs": [
    {
     "data": {
      "text/plain": [
       "array([9.66728009e-01, 2.78688210e-02, 4.12358699e-03, 1.04751192e-03,\n",
       "       2.32071553e-04])"
      ]
     },
     "execution_count": 20,
     "metadata": {},
     "output_type": "execute_result"
    }
   ],
   "source": [
    "# calculating proportion of variation\n",
    "\n",
    "prcomp.explained_variance_/total_var"
   ]
  },
  {
   "cell_type": "code",
   "execution_count": null,
   "id": "f2a9c70a",
   "metadata": {},
   "outputs": [
    {
     "data": {
      "text/plain": [
       "array([9.66728009e+01, 2.78688210e+00, 4.12358699e-01, 1.04751192e-01,\n",
       "       2.32071553e-02])"
      ]
     },
     "execution_count": 24,
     "metadata": {},
     "output_type": "execute_result"
    }
   ],
   "source": [
    "# calculating percentage variation\n",
    "\n",
    "(prcomp.explained_variance_/total_var)*100\n",
    "\n",
    "#or\n",
    "\n",
    "prcomp.explained_variance_ratio_*100"
   ]
  },
  {
   "cell_type": "markdown",
   "id": "41a5dda7",
   "metadata": {},
   "source": [
    "### Cumulative variation for all the PC's"
   ]
  },
  {
   "cell_type": "code",
   "execution_count": 26,
   "id": "00c3eec6",
   "metadata": {},
   "outputs": [
    {
     "data": {
      "text/plain": [
       "array([ 96.67280086,  99.45968295,  99.87204165,  99.97679284,\n",
       "       100.        ])"
      ]
     },
     "execution_count": 26,
     "metadata": {},
     "output_type": "execute_result"
    }
   ],
   "source": [
    "np.cumsum(prcomp.explained_variance_ratio_*100)"
   ]
  },
  {
   "cell_type": "markdown",
   "id": "a3fd9747",
   "metadata": {},
   "source": [
    "Here the 1st principal component explains 96.67% of variation, 1st amd 2nd component expalins 99.45% varation and so on."
   ]
  },
  {
   "cell_type": "code",
   "execution_count": 30,
   "id": "f1b714d9",
   "metadata": {},
   "outputs": [
    {
     "data": {
      "image/png": "[encoded data removed]",
      "text/plain": [
       "<Figure size 432x288 with 1 Axes>"
      ]
     },
     "metadata": {
      "needs_background": "light"
     },
     "output_type": "display_data"
    }
   ],
   "source": [
    "import matplotlib.pyplot as plt\n",
    "plt.scatter([1,2,3,4,5],np.cumsum(prcomp.explained_variance_ratio_*100))\n",
    "plt.plot([1,2,3,4,5],np.cumsum(prcomp.explained_variance_ratio_*100))\n",
    "plt.xlabel('PCA')\n",
    "plt.title('Scre Plot')\n",
    "plt.show()"
   ]
  },
  {
   "cell_type": "markdown",
   "id": "7ab1c8a4",
   "metadata": {},
   "source": [
    "### for nutrient dataset"
   ]
  },
  {
   "cell_type": "code",
   "execution_count": 32,
   "id": "76b98b08",
   "metadata": {},
   "outputs": [
    {
     "data": {
      "text/html": [
       "<div>\n",
       "<style scoped>\n",
       "    .dataframe tbody tr th:only-of-type {\n",
       "        vertical-align: middle;\n",
       "    }\n",
       "\n",
       "    .dataframe tbody tr th {\n",
       "        vertical-align: top;\n",
       "    }\n",
       "\n",
       "    .dataframe thead th {\n",
       "        text-align: right;\n",
       "    }\n",
       "</style>\n",
       "<table border=\"1\" class=\"dataframe\">\n",
       "  <thead>\n",
       "    <tr style=\"text-align: right;\">\n",
       "      <th></th>\n",
       "      <th>energy</th>\n",
       "      <th>protein</th>\n",
       "      <th>fat</th>\n",
       "      <th>calcium</th>\n",
       "      <th>iron</th>\n",
       "    </tr>\n",
       "    <tr>\n",
       "      <th>Food_Item</th>\n",
       "      <th></th>\n",
       "      <th></th>\n",
       "      <th></th>\n",
       "      <th></th>\n",
       "      <th></th>\n",
       "    </tr>\n",
       "  </thead>\n",
       "  <tbody>\n",
       "    <tr>\n",
       "      <th>BEEF BRAISED</th>\n",
       "      <td>340</td>\n",
       "      <td>20</td>\n",
       "      <td>28</td>\n",
       "      <td>9</td>\n",
       "      <td>2.6</td>\n",
       "    </tr>\n",
       "    <tr>\n",
       "      <th>HAMBURGER</th>\n",
       "      <td>245</td>\n",
       "      <td>21</td>\n",
       "      <td>17</td>\n",
       "      <td>9</td>\n",
       "      <td>2.7</td>\n",
       "    </tr>\n",
       "    <tr>\n",
       "      <th>BEEF ROAST</th>\n",
       "      <td>420</td>\n",
       "      <td>15</td>\n",
       "      <td>39</td>\n",
       "      <td>7</td>\n",
       "      <td>2.0</td>\n",
       "    </tr>\n",
       "    <tr>\n",
       "      <th>BEEF STEAK</th>\n",
       "      <td>375</td>\n",
       "      <td>19</td>\n",
       "      <td>32</td>\n",
       "      <td>9</td>\n",
       "      <td>2.6</td>\n",
       "    </tr>\n",
       "    <tr>\n",
       "      <th>BEEF CANNED</th>\n",
       "      <td>180</td>\n",
       "      <td>22</td>\n",
       "      <td>10</td>\n",
       "      <td>17</td>\n",
       "      <td>3.7</td>\n",
       "    </tr>\n",
       "  </tbody>\n",
       "</table>\n",
       "</div>"
      ],
      "text/plain": [
       "              energy  protein  fat  calcium  iron\n",
       "Food_Item                                        \n",
       "BEEF BRAISED     340       20   28        9   2.6\n",
       "HAMBURGER        245       21   17        9   2.7\n",
       "BEEF ROAST       420       15   39        7   2.0\n",
       "BEEF STEAK       375       19   32        9   2.6\n",
       "BEEF CANNED      180       22   10       17   3.7"
      ]
     },
     "execution_count": 32,
     "metadata": {},
     "output_type": "execute_result"
    }
   ],
   "source": [
    "nutrient_df=pd.read_csv(r'..\\Datasets\\nutrient.csv',index_col=0)\n",
    "nutrient_df.head()"
   ]
  },
  {
   "cell_type": "code",
   "execution_count": 34,
   "id": "5d2a5e96",
   "metadata": {},
   "outputs": [
    {
     "data": {
      "image/png": "[encoded data removed]",
      "text/plain": [
       "<Figure size 432x288 with 1 Axes>"
      ]
     },
     "metadata": {
      "needs_background": "light"
     },
     "output_type": "display_data"
    }
   ],
   "source": [
    "import pandas as pd\n",
    "import numpy as np\n",
    "import os\n",
    "from sklearn.decomposition import PCA\n",
    "nutrient_df=pd.read_csv(r'..\\Datasets\\nutrient.csv',index_col=0)\n",
    "nutrient_df.head()\n",
    "prcomp=PCA().set_output(transform='pandas')\n",
    "\n",
    "compinents= prcomp.fit_transform(nutrient_df)\n",
    "compinents.var()\n",
    "nutrient_df.cov()\n",
    "np.linalg.eig(nutrient_df.cov())\n",
    "#variance of critical principal component are eigen values of variance covarience matrix of that data\n",
    "prcomp.explained_variance_\n",
    "#calculating \n",
    "# calculating sum of variations\n",
    "total_var = np.sum(prcomp.explained_variance_)\n",
    "total_var\n",
    "# calculating proportion of variation\n",
    "\n",
    "prcomp.explained_variance_/total_var\n",
    "# calculating percentage variation\n",
    "\n",
    "(prcomp.explained_variance_/total_var)*100\n",
    "\n",
    "#or\n",
    "\n",
    "prcomp.explained_variance_ratio_*100\n",
    "### Cumulative variation for all the PC's\n",
    "np.cumsum(prcomp.explained_variance_ratio_*100)\n",
    "#Here the 1st principal component explains 96.67% of variation, 1st amd 2nd component expalins 99.45% varation and so on.\n",
    "import matplotlib.pyplot as plt\n",
    "plt.scatter([1,2,3,4,5],np.cumsum(prcomp.explained_variance_ratio_*100))\n",
    "plt.plot([1,2,3,4,5],np.cumsum(prcomp.explained_variance_ratio_*100))\n",
    "plt.xlabel('PCA')\n",
    "plt.title('Scre Plot')\n",
    "plt.show()"
   ]
  }
 ],
 "metadata": {
  "kernelspec": {
   "display_name": "base",
   "language": "python",
   "name": "python3"
  },
  "language_info": {
   "codemirror_mode": {
    "name": "ipython",
    "version": 3
   },
   "file_extension": ".py",
   "mimetype": "text/x-python",
   "name": "python",
   "nbconvert_exporter": "python",
   "pygments_lexer": "ipython3",
   "version": "3.8.5"
  }
 },
 "nbformat": 4,
 "nbformat_minor": 5
}

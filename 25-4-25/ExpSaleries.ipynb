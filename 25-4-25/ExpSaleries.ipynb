{
 "cells": [
  {
   "cell_type": "code",
   "execution_count": null,
   "id": "f88dfc0a",
   "metadata": {},
   "outputs": [],
   "source": []
  },
  {
   "cell_type": "code",
   "execution_count": null,
   "id": "62c42f66",
   "metadata": {},
   "outputs": [],
   "source": []
  },
  {
   "cell_type": "code",
   "execution_count": null,
   "id": "77c048a8",
   "metadata": {},
   "outputs": [],
   "source": [
    "import pandas as pd\n",
    "import numpy as np\n",
    "from sklearn.model_selection import train_test_split\n",
    "from sklearn.linear_model import LinearRegression\n",
    "from sklearn.metrics import mean_absolute_error, mean_squared_error, r2_score\n",
    "import os"
   ]
  },
  {
   "cell_type": "code",
   "execution_count": 2,
   "id": "f72c39fa",
   "metadata": {},
   "outputs": [
    {
     "name": "stderr",
     "output_type": "stream",
     "text": [
      "<>:1: SyntaxWarning: invalid escape sequence '\\D'\n",
      "<>:1: SyntaxWarning: invalid escape sequence '\\D'\n",
      "C:\\Users\\ONKAR\\AppData\\Local\\Temp\\ipykernel_5536\\2336089877.py:1: SyntaxWarning: invalid escape sequence '\\D'\n",
      "  exp_sals = pd.read_csv('..\\Datasets\\Exp_Salaries.csv')\n"
     ]
    },
    {
     "data": {
      "text/html": [
       "<div>\n",
       "<style scoped>\n",
       "    .dataframe tbody tr th:only-of-type {\n",
       "        vertical-align: middle;\n",
       "    }\n",
       "\n",
       "    .dataframe tbody tr th {\n",
       "        vertical-align: top;\n",
       "    }\n",
       "\n",
       "    .dataframe thead th {\n",
       "        text-align: right;\n",
       "    }\n",
       "</style>\n",
       "<table border=\"1\" class=\"dataframe\">\n",
       "  <thead>\n",
       "    <tr style=\"text-align: right;\">\n",
       "      <th></th>\n",
       "      <th>Salary</th>\n",
       "      <th>Years_Previous_Experience</th>\n",
       "      <th>Years Employed</th>\n",
       "      <th>Years_Education</th>\n",
       "      <th>Gender</th>\n",
       "      <th>Department</th>\n",
       "      <th>Number_Supervised</th>\n",
       "    </tr>\n",
       "  </thead>\n",
       "  <tbody>\n",
       "    <tr>\n",
       "      <th>0</th>\n",
       "      <td>32782</td>\n",
       "      <td>1</td>\n",
       "      <td>0</td>\n",
       "      <td>7</td>\n",
       "      <td>Male</td>\n",
       "      <td>A</td>\n",
       "      <td>0</td>\n",
       "    </tr>\n",
       "    <tr>\n",
       "      <th>1</th>\n",
       "      <td>32920</td>\n",
       "      <td>3</td>\n",
       "      <td>15</td>\n",
       "      <td>9</td>\n",
       "      <td>Female</td>\n",
       "      <td>A</td>\n",
       "      <td>4</td>\n",
       "    </tr>\n",
       "    <tr>\n",
       "      <th>2</th>\n",
       "      <td>29548</td>\n",
       "      <td>6</td>\n",
       "      <td>5</td>\n",
       "      <td>1</td>\n",
       "      <td>Male</td>\n",
       "      <td>A</td>\n",
       "      <td>0</td>\n",
       "    </tr>\n",
       "    <tr>\n",
       "      <th>3</th>\n",
       "      <td>39828</td>\n",
       "      <td>6</td>\n",
       "      <td>18</td>\n",
       "      <td>5</td>\n",
       "      <td>Female</td>\n",
       "      <td>A</td>\n",
       "      <td>5</td>\n",
       "    </tr>\n",
       "    <tr>\n",
       "      <th>4</th>\n",
       "      <td>31528</td>\n",
       "      <td>11</td>\n",
       "      <td>3</td>\n",
       "      <td>3</td>\n",
       "      <td>Male</td>\n",
       "      <td>A</td>\n",
       "      <td>6</td>\n",
       "    </tr>\n",
       "  </tbody>\n",
       "</table>\n",
       "</div>"
      ],
      "text/plain": [
       "   Salary  Years_Previous_Experience  Years Employed  Years_Education  Gender  \\\n",
       "0   32782                          1               0                7    Male   \n",
       "1   32920                          3              15                9  Female   \n",
       "2   29548                          6               5                1    Male   \n",
       "3   39828                          6              18                5  Female   \n",
       "4   31528                         11               3                3    Male   \n",
       "\n",
       "  Department  Number_Supervised  \n",
       "0          A                  0  \n",
       "1          A                  4  \n",
       "2          A                  0  \n",
       "3          A                  5  \n",
       "4          A                  6  "
      ]
     },
     "execution_count": 2,
     "metadata": {},
     "output_type": "execute_result"
    }
   ],
   "source": [
    "exp_sals = pd.read_csv('..\\Datasets\\Exp_Salaries.csv')\n",
    "exp_sals.head()"
   ]
  },
  {
   "cell_type": "code",
   "execution_count": 3,
   "id": "de9c9e1e",
   "metadata": {},
   "outputs": [],
   "source": [
    "train, test = train_test_split(exp_sals, test_size=0.3, random_state=25)\n",
    "x_train = train.drop(columns=['Salary','Department','Gender'],axis=1)\n",
    "y_train = train['Salary']\n",
    "x_test =test.drop(columns=['Salary','Department','Gender'],axis=1)\n",
    "y_test = test['Salary']"
   ]
  },
  {
   "cell_type": "code",
   "execution_count": 4,
   "id": "0eec9988",
   "metadata": {},
   "outputs": [
    {
     "name": "stdout",
     "output_type": "stream",
     "text": [
      "[   5.06730251  729.64208918 1488.0137908   178.41380514]\n",
      "23598.11334443491\n"
     ]
    }
   ],
   "source": [
    "lr=LinearRegression()\n",
    "lr.fit(x_train,y_train)\n",
    "y_pred = lr.predict(x_test)\n",
    "print(lr.coef_)\n",
    "print(lr.intercept_)\n"
   ]
  },
  {
   "cell_type": "code",
   "execution_count": 5,
   "id": "bd965a42",
   "metadata": {},
   "outputs": [
    {
     "data": {
      "text/plain": [
       "729.6420891799935"
      ]
     },
     "execution_count": 5,
     "metadata": {},
     "output_type": "execute_result"
    }
   ],
   "source": [
    "v1 = 5.06730251*6 + 729.64208918*5+ 1488.0137908*5  + 178.41380514*4 + 23598.113344434903\n",
    "v2 = 5.06730251*6 + 729.64208918*6+ 1488.0137908*5  + 178.41380514*4 + 23598.113344434903\n",
    "v2-v1"
   ]
  },
  {
   "cell_type": "code",
   "execution_count": 6,
   "id": "09f57baf",
   "metadata": {},
   "outputs": [],
   "source": [
    "test_df=exp_sals[['Years_Previous_Experience', 'Years Employed','Years_Education','Number_Supervised']].iloc[:2,:]"
   ]
  },
  {
   "cell_type": "code",
   "execution_count": 7,
   "id": "9c0acef4",
   "metadata": {},
   "outputs": [
    {
     "name": "stdout",
     "output_type": "stream",
     "text": [
      "mean_absolute_error 3763.312190444594\n",
      "mean_squared_error 26226043.957655262\n",
      "r2_score 0.5910276432753672\n"
     ]
    }
   ],
   "source": [
    "print(\"mean_absolute_error\",mean_absolute_error(y_test, y_pred))\n",
    "print(\"mean_squared_error\",mean_squared_error(y_test, y_pred))\n",
    "print(\"r2_score\",r2_score(y_test, y_pred))\n",
    "# Generating output on unlabeled data is called inference"
   ]
  },
  {
   "cell_type": "code",
   "execution_count": 8,
   "id": "a6ef0fd3",
   "metadata": {},
   "outputs": [
    {
     "name": "stdout",
     "output_type": "stream",
     "text": [
      "mean_absolute_error 3759.6769859031697\n",
      "mean_squared_error 26258522.361314584\n",
      "r2_score 0.5905211708043895\n"
     ]
    }
   ],
   "source": [
    "from sklearn.linear_model import Ridge\n",
    "ridge=Ridge()\n",
    "ridge.fit(x_train,y_train)\n",
    "y_pred = ridge.predict(x_test)\n",
    "print(\"mean_absolute_error\",mean_absolute_error(y_test, y_pred))\n",
    "print(\"mean_squared_error\",mean_squared_error(y_test, y_pred))\n",
    "print(\"r2_score\",r2_score(y_test, y_pred))"
   ]
  },
  {
   "cell_type": "code",
   "execution_count": 9,
   "id": "97dcfefc",
   "metadata": {},
   "outputs": [
    {
     "name": "stdout",
     "output_type": "stream",
     "text": [
      "mean_absolute_error 3763.2736572612243\n",
      "mean_squared_error 26224554.764620315\n",
      "r2_score 0.5910508659461636\n"
     ]
    }
   ],
   "source": [
    "from sklearn.linear_model import Lasso\n",
    "lassoo=Lasso()\n",
    "lassoo.fit(x_train,y_train)\n",
    "y_pred = lassoo.predict(x_test)\n",
    "print(\"mean_absolute_error\",mean_absolute_error(y_test, y_pred))\n",
    "print(\"mean_squared_error\",mean_squared_error(y_test, y_pred))\n",
    "print(\"r2_score\",r2_score(y_test, y_pred))"
   ]
  },
  {
   "cell_type": "code",
   "execution_count": null,
   "id": "6efd10aa",
   "metadata": {},
   "outputs": [],
   "source": []
  },
  {
   "cell_type": "code",
   "execution_count": null,
   "id": "98f2dc46",
   "metadata": {},
   "outputs": [],
   "source": []
  },
  {
   "cell_type": "code",
   "execution_count": null,
   "id": "9e82d384",
   "metadata": {},
   "outputs": [],
   "source": []
  }
 ],
 "metadata": {
  "kernelspec": {
   "display_name": "base",
   "language": "python",
   "name": "python3"
  },
  "language_info": {
   "codemirror_mode": {
    "name": "ipython",
    "version": 3
   },
   "file_extension": ".py",
   "mimetype": "text/x-python",
   "name": "python",
   "nbconvert_exporter": "python",
   "pygments_lexer": "ipython3",
   "version": "3.12.7"
  }
 },
 "nbformat": 4,
 "nbformat_minor": 5
}

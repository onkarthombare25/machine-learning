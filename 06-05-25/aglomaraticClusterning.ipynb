{
 "cells": [
  {
   "cell_type": "code",
   "execution_count": 1,
   "id": "3c13029f",
   "metadata": {},
   "outputs": [],
   "source": [
    "import pandas as pd\n",
    "import numpy as np\n",
    "from sklearn.preprocessing import StandardScaler\n",
    "from scipy.cluster.hierarchy import linkage,dendrogram\n",
    "import matplotlib.pyplot as plt\n",
    "import seaborn as sns"
   ]
  },
  {
   "cell_type": "markdown",
   "id": "94b9e9e9",
   "metadata": {},
   "source": [
    "# Clustering Example"
   ]
  },
  {
   "cell_type": "code",
   "execution_count": 7,
   "id": "814d0a0b",
   "metadata": {},
   "outputs": [
    {
     "data": {
      "text/html": [
       "<div>\n",
       "<style scoped>\n",
       "    .dataframe tbody tr th:only-of-type {\n",
       "        vertical-align: middle;\n",
       "    }\n",
       "\n",
       "    .dataframe tbody tr th {\n",
       "        vertical-align: top;\n",
       "    }\n",
       "\n",
       "    .dataframe thead th {\n",
       "        text-align: right;\n",
       "    }\n",
       "</style>\n",
       "<table border=\"1\" class=\"dataframe\">\n",
       "  <thead>\n",
       "    <tr style=\"text-align: right;\">\n",
       "      <th></th>\n",
       "      <th>X1</th>\n",
       "      <th>X2</th>\n",
       "    </tr>\n",
       "    <tr>\n",
       "      <th>Name</th>\n",
       "      <th></th>\n",
       "      <th></th>\n",
       "    </tr>\n",
       "  </thead>\n",
       "  <tbody>\n",
       "    <tr>\n",
       "      <th>A</th>\n",
       "      <td>23</td>\n",
       "      <td>150</td>\n",
       "    </tr>\n",
       "    <tr>\n",
       "      <th>B</th>\n",
       "      <td>24</td>\n",
       "      <td>167</td>\n",
       "    </tr>\n",
       "    <tr>\n",
       "      <th>C</th>\n",
       "      <td>67</td>\n",
       "      <td>256</td>\n",
       "    </tr>\n",
       "    <tr>\n",
       "      <th>D</th>\n",
       "      <td>65</td>\n",
       "      <td>240</td>\n",
       "    </tr>\n",
       "    <tr>\n",
       "      <th>E</th>\n",
       "      <td>12</td>\n",
       "      <td>102</td>\n",
       "    </tr>\n",
       "  </tbody>\n",
       "</table>\n",
       "</div>"
      ],
      "text/plain": [
       "      X1   X2\n",
       "Name         \n",
       "A     23  150\n",
       "B     24  167\n",
       "C     67  256\n",
       "D     65  240\n",
       "E     12  102"
      ]
     },
     "execution_count": 7,
     "metadata": {},
     "output_type": "execute_result"
    }
   ],
   "source": [
    "df=pd.read_csv(r'..\\Datasets\\simp_clust.csv',index_col=0)\n",
    "df.head()"
   ]
  },
  {
   "cell_type": "code",
   "execution_count": 10,
   "id": "b5a3e49d",
   "metadata": {},
   "outputs": [
    {
     "data": {
      "image/png": "[encoded data removed]",
      "text/plain": [
       "<Figure size 640x480 with 1 Axes>"
      ]
     },
     "metadata": {},
     "output_type": "display_data"
    }
   ],
   "source": [
    "scaler=StandardScaler().set_output(transform='pandas')\n",
    "df_scaled=scaler.fit_transform(df)\n",
    "link='average'\n",
    "mergings=linkage(df_scaled,method=link)\n",
    "dendo=dendrogram(mergings,labels=list(df_scaled.index))\n",
    "plt.title(link+\" Linkage\"+\" Dendogram\")\n",
    "plt.show()"
   ]
  },
  {
   "cell_type": "markdown",
   "id": "0a31ce25",
   "metadata": {},
   "source": [
    "# For Milk Dataset"
   ]
  },
  {
   "cell_type": "markdown",
   "id": "2c807803",
   "metadata": {},
   "source": [
    "## Using scipy"
   ]
  },
  {
   "cell_type": "code",
   "execution_count": 11,
   "id": "d82fa414",
   "metadata": {},
   "outputs": [
    {
     "data": {
      "text/html": [
       "<div>\n",
       "<style scoped>\n",
       "    .dataframe tbody tr th:only-of-type {\n",
       "        vertical-align: middle;\n",
       "    }\n",
       "\n",
       "    .dataframe tbody tr th {\n",
       "        vertical-align: top;\n",
       "    }\n",
       "\n",
       "    .dataframe thead th {\n",
       "        text-align: right;\n",
       "    }\n",
       "</style>\n",
       "<table border=\"1\" class=\"dataframe\">\n",
       "  <thead>\n",
       "    <tr style=\"text-align: right;\">\n",
       "      <th></th>\n",
       "      <th>water</th>\n",
       "      <th>protein</th>\n",
       "      <th>fat</th>\n",
       "      <th>lactose</th>\n",
       "      <th>ash</th>\n",
       "    </tr>\n",
       "    <tr>\n",
       "      <th>Animal</th>\n",
       "      <th></th>\n",
       "      <th></th>\n",
       "      <th></th>\n",
       "      <th></th>\n",
       "      <th></th>\n",
       "    </tr>\n",
       "  </thead>\n",
       "  <tbody>\n",
       "    <tr>\n",
       "      <th>HORSE</th>\n",
       "      <td>90.1</td>\n",
       "      <td>2.6</td>\n",
       "      <td>1.0</td>\n",
       "      <td>6.9</td>\n",
       "      <td>0.35</td>\n",
       "    </tr>\n",
       "    <tr>\n",
       "      <th>ORANGUTAN</th>\n",
       "      <td>88.5</td>\n",
       "      <td>1.4</td>\n",
       "      <td>3.5</td>\n",
       "      <td>6.0</td>\n",
       "      <td>0.24</td>\n",
       "    </tr>\n",
       "    <tr>\n",
       "      <th>MONKEY</th>\n",
       "      <td>88.4</td>\n",
       "      <td>2.2</td>\n",
       "      <td>2.7</td>\n",
       "      <td>6.4</td>\n",
       "      <td>0.18</td>\n",
       "    </tr>\n",
       "    <tr>\n",
       "      <th>DONKEY</th>\n",
       "      <td>90.3</td>\n",
       "      <td>1.7</td>\n",
       "      <td>1.4</td>\n",
       "      <td>6.2</td>\n",
       "      <td>0.40</td>\n",
       "    </tr>\n",
       "    <tr>\n",
       "      <th>HIPPO</th>\n",
       "      <td>90.4</td>\n",
       "      <td>0.6</td>\n",
       "      <td>4.5</td>\n",
       "      <td>4.4</td>\n",
       "      <td>0.10</td>\n",
       "    </tr>\n",
       "  </tbody>\n",
       "</table>\n",
       "</div>"
      ],
      "text/plain": [
       "           water  protein  fat  lactose   ash\n",
       "Animal                                       \n",
       "HORSE       90.1      2.6  1.0      6.9  0.35\n",
       "ORANGUTAN   88.5      1.4  3.5      6.0  0.24\n",
       "MONKEY      88.4      2.2  2.7      6.4  0.18\n",
       "DONKEY      90.3      1.7  1.4      6.2  0.40\n",
       "HIPPO       90.4      0.6  4.5      4.4  0.10"
      ]
     },
     "execution_count": 11,
     "metadata": {},
     "output_type": "execute_result"
    }
   ],
   "source": [
    "milk_df=pd.read_csv(r'..\\Datasets\\milk.csv',index_col=0)\n",
    "milk_df.head()"
   ]
  },
  {
   "cell_type": "code",
   "execution_count": 13,
   "id": "28dcfe3a",
   "metadata": {},
   "outputs": [
    {
     "data": {
      "text/html": [
       "<div>\n",
       "<style scoped>\n",
       "    .dataframe tbody tr th:only-of-type {\n",
       "        vertical-align: middle;\n",
       "    }\n",
       "\n",
       "    .dataframe tbody tr th {\n",
       "        vertical-align: top;\n",
       "    }\n",
       "\n",
       "    .dataframe thead th {\n",
       "        text-align: right;\n",
       "    }\n",
       "</style>\n",
       "<table border=\"1\" class=\"dataframe\">\n",
       "  <thead>\n",
       "    <tr style=\"text-align: right;\">\n",
       "      <th></th>\n",
       "      <th>water</th>\n",
       "      <th>protein</th>\n",
       "      <th>fat</th>\n",
       "      <th>lactose</th>\n",
       "      <th>ash</th>\n",
       "    </tr>\n",
       "    <tr>\n",
       "      <th>Animal</th>\n",
       "      <th></th>\n",
       "      <th></th>\n",
       "      <th></th>\n",
       "      <th></th>\n",
       "      <th></th>\n",
       "    </tr>\n",
       "  </thead>\n",
       "  <tbody>\n",
       "    <tr>\n",
       "      <th>HORSE</th>\n",
       "      <td>0.948806</td>\n",
       "      <td>-1.009291</td>\n",
       "      <td>-0.903208</td>\n",
       "      <td>1.542217</td>\n",
       "      <td>-1.037554</td>\n",
       "    </tr>\n",
       "    <tr>\n",
       "      <th>ORANGUTAN</th>\n",
       "      <td>0.821407</td>\n",
       "      <td>-1.344603</td>\n",
       "      <td>-0.660619</td>\n",
       "      <td>1.040773</td>\n",
       "      <td>-1.259945</td>\n",
       "    </tr>\n",
       "    <tr>\n",
       "      <th>MONKEY</th>\n",
       "      <td>0.813445</td>\n",
       "      <td>-1.121062</td>\n",
       "      <td>-0.738247</td>\n",
       "      <td>1.263637</td>\n",
       "      <td>-1.381249</td>\n",
       "    </tr>\n",
       "    <tr>\n",
       "      <th>DONKEY</th>\n",
       "      <td>0.964731</td>\n",
       "      <td>-1.260775</td>\n",
       "      <td>-0.864394</td>\n",
       "      <td>1.152205</td>\n",
       "      <td>-0.936467</td>\n",
       "    </tr>\n",
       "    <tr>\n",
       "      <th>HIPPO</th>\n",
       "      <td>0.972694</td>\n",
       "      <td>-1.568145</td>\n",
       "      <td>-0.563583</td>\n",
       "      <td>0.149319</td>\n",
       "      <td>-1.542988</td>\n",
       "    </tr>\n",
       "  </tbody>\n",
       "</table>\n",
       "</div>"
      ],
      "text/plain": [
       "              water   protein       fat   lactose       ash\n",
       "Animal                                                     \n",
       "HORSE      0.948806 -1.009291 -0.903208  1.542217 -1.037554\n",
       "ORANGUTAN  0.821407 -1.344603 -0.660619  1.040773 -1.259945\n",
       "MONKEY     0.813445 -1.121062 -0.738247  1.263637 -1.381249\n",
       "DONKEY     0.964731 -1.260775 -0.864394  1.152205 -0.936467\n",
       "HIPPO      0.972694 -1.568145 -0.563583  0.149319 -1.542988"
      ]
     },
     "execution_count": 13,
     "metadata": {},
     "output_type": "execute_result"
    }
   ],
   "source": [
    "scaler=StandardScaler().set_output(transform='pandas')\n",
    "milk_scaled=scaler.fit_transform(milk_df)\n",
    "milk_scaled.head()"
   ]
  },
  {
   "cell_type": "code",
   "execution_count": null,
   "id": "08519998",
   "metadata": {},
   "outputs": [],
   "source": []
  },
  {
   "cell_type": "code",
   "execution_count": 21,
   "id": "5c2f9c5f",
   "metadata": {},
   "outputs": [
    {
     "data": {
      "image/png": "[encoded data removed]",
      "text/plain": [
       "<Figure size 1100x500 with 1 Axes>"
      ]
     },
     "metadata": {},
     "output_type": "display_data"
    }
   ],
   "source": [
    "link='average'\n",
    "merging=linkage(milk_scaled,link)\n",
    "plt.figure(figsize=(11,5))\n",
    "dendrogram(merging,labels=list(milk_scaled.index))\n",
    "plt.title(link+\" Linkage\"+\" Dendogram\")\n",
    "plt.xticks(rotation=90)\n",
    "plt.show()"
   ]
  },
  {
   "cell_type": "markdown",
   "id": "60377907",
   "metadata": {},
   "source": [
    "## Using `sklearn`"
   ]
  },
  {
   "cell_type": "code",
   "execution_count": 23,
   "id": "f5544a9a",
   "metadata": {},
   "outputs": [],
   "source": [
    "from sklearn.cluster import AgglomerativeClustering\n",
    "from sklearn.metrics import silhouette_score"
   ]
  },
  {
   "cell_type": "code",
   "execution_count": 26,
   "id": "47727e52",
   "metadata": {},
   "outputs": [
    {
     "data": {
      "text/plain": [
       "np.float64(0.5391595072079531)"
      ]
     },
     "execution_count": 26,
     "metadata": {},
     "output_type": "execute_result"
    }
   ],
   "source": [
    "clust=AgglomerativeClustering(n_clusters=3)\n",
    "clust.fit(milk_scaled)\n",
    "silhouette_score(milk_scaled,clust.labels_)"
   ]
  },
  {
   "cell_type": "code",
   "execution_count": 30,
   "id": "4e5111c7",
   "metadata": {},
   "outputs": [
    {
     "data": {
      "text/html": [
       "<div>\n",
       "<style scoped>\n",
       "    .dataframe tbody tr th:only-of-type {\n",
       "        vertical-align: middle;\n",
       "    }\n",
       "\n",
       "    .dataframe tbody tr th {\n",
       "        vertical-align: top;\n",
       "    }\n",
       "\n",
       "    .dataframe thead th {\n",
       "        text-align: right;\n",
       "    }\n",
       "</style>\n",
       "<table border=\"1\" class=\"dataframe\">\n",
       "  <thead>\n",
       "    <tr style=\"text-align: right;\">\n",
       "      <th></th>\n",
       "      <th>clusters</th>\n",
       "      <th>linkage</th>\n",
       "      <th>score</th>\n",
       "    </tr>\n",
       "  </thead>\n",
       "  <tbody>\n",
       "    <tr>\n",
       "      <th>4</th>\n",
       "      <td>3</td>\n",
       "      <td>ward</td>\n",
       "      <td>0.539160</td>\n",
       "    </tr>\n",
       "    <tr>\n",
       "      <th>0</th>\n",
       "      <td>2</td>\n",
       "      <td>ward</td>\n",
       "      <td>0.525851</td>\n",
       "    </tr>\n",
       "    <tr>\n",
       "      <th>3</th>\n",
       "      <td>2</td>\n",
       "      <td>average</td>\n",
       "      <td>0.518685</td>\n",
       "    </tr>\n",
       "    <tr>\n",
       "      <th>1</th>\n",
       "      <td>2</td>\n",
       "      <td>single</td>\n",
       "      <td>0.518685</td>\n",
       "    </tr>\n",
       "    <tr>\n",
       "      <th>7</th>\n",
       "      <td>3</td>\n",
       "      <td>average</td>\n",
       "      <td>0.487576</td>\n",
       "    </tr>\n",
       "  </tbody>\n",
       "</table>\n",
       "</div>"
      ],
      "text/plain": [
       "   clusters  linkage     score\n",
       "4         3     ward  0.539160\n",
       "0         2     ward  0.525851\n",
       "3         2  average  0.518685\n",
       "1         2   single  0.518685\n",
       "7         3  average  0.487576"
      ]
     },
     "execution_count": 30,
     "metadata": {},
     "output_type": "execute_result"
    }
   ],
   "source": [
    "ks=[2,3,4,5,6,7]\n",
    "linkage=['ward','single','complete','average']\n",
    "scores=[]\n",
    "for i in ks:\n",
    "    for link in linkage:\n",
    "        clust=AgglomerativeClustering(n_clusters=i,linkage=link)\n",
    "        clust.fit(milk_scaled)\n",
    "        scores.append([i,link,silhouette_score(milk_scaled,clust.labels_)])\n",
    "score_df=pd.DataFrame(scores,columns=['clusters','linkage','score'])\n",
    "score_df.sort_values(by='score',ascending=False,inplace=True)\n",
    "score_df.head()"
   ]
  },
  {
   "cell_type": "markdown",
   "id": "73b00b51",
   "metadata": {},
   "source": [
    "# For Nurient dataset"
   ]
  },
  {
   "cell_type": "code",
   "execution_count": 31,
   "id": "b4c9d95c",
   "metadata": {},
   "outputs": [
    {
     "data": {
      "text/html": [
       "<div>\n",
       "<style scoped>\n",
       "    .dataframe tbody tr th:only-of-type {\n",
       "        vertical-align: middle;\n",
       "    }\n",
       "\n",
       "    .dataframe tbody tr th {\n",
       "        vertical-align: top;\n",
       "    }\n",
       "\n",
       "    .dataframe thead th {\n",
       "        text-align: right;\n",
       "    }\n",
       "</style>\n",
       "<table border=\"1\" class=\"dataframe\">\n",
       "  <thead>\n",
       "    <tr style=\"text-align: right;\">\n",
       "      <th></th>\n",
       "      <th>energy</th>\n",
       "      <th>protein</th>\n",
       "      <th>fat</th>\n",
       "      <th>calcium</th>\n",
       "      <th>iron</th>\n",
       "    </tr>\n",
       "    <tr>\n",
       "      <th>Food_Item</th>\n",
       "      <th></th>\n",
       "      <th></th>\n",
       "      <th></th>\n",
       "      <th></th>\n",
       "      <th></th>\n",
       "    </tr>\n",
       "  </thead>\n",
       "  <tbody>\n",
       "    <tr>\n",
       "      <th>BEEF BRAISED</th>\n",
       "      <td>340</td>\n",
       "      <td>20</td>\n",
       "      <td>28</td>\n",
       "      <td>9</td>\n",
       "      <td>2.6</td>\n",
       "    </tr>\n",
       "    <tr>\n",
       "      <th>HAMBURGER</th>\n",
       "      <td>245</td>\n",
       "      <td>21</td>\n",
       "      <td>17</td>\n",
       "      <td>9</td>\n",
       "      <td>2.7</td>\n",
       "    </tr>\n",
       "    <tr>\n",
       "      <th>BEEF ROAST</th>\n",
       "      <td>420</td>\n",
       "      <td>15</td>\n",
       "      <td>39</td>\n",
       "      <td>7</td>\n",
       "      <td>2.0</td>\n",
       "    </tr>\n",
       "    <tr>\n",
       "      <th>BEEF STEAK</th>\n",
       "      <td>375</td>\n",
       "      <td>19</td>\n",
       "      <td>32</td>\n",
       "      <td>9</td>\n",
       "      <td>2.6</td>\n",
       "    </tr>\n",
       "    <tr>\n",
       "      <th>BEEF CANNED</th>\n",
       "      <td>180</td>\n",
       "      <td>22</td>\n",
       "      <td>10</td>\n",
       "      <td>17</td>\n",
       "      <td>3.7</td>\n",
       "    </tr>\n",
       "  </tbody>\n",
       "</table>\n",
       "</div>"
      ],
      "text/plain": [
       "              energy  protein  fat  calcium  iron\n",
       "Food_Item                                        \n",
       "BEEF BRAISED     340       20   28        9   2.6\n",
       "HAMBURGER        245       21   17        9   2.7\n",
       "BEEF ROAST       420       15   39        7   2.0\n",
       "BEEF STEAK       375       19   32        9   2.6\n",
       "BEEF CANNED      180       22   10       17   3.7"
      ]
     },
     "execution_count": 31,
     "metadata": {},
     "output_type": "execute_result"
    }
   ],
   "source": [
    "nutrient_df=pd.read_csv(r'..\\Datasets\\nutrient.csv',index_col=0)\n",
    "nutrient_df.head()"
   ]
  },
  {
   "cell_type": "code",
   "execution_count": 32,
   "id": "28d6cc7a",
   "metadata": {},
   "outputs": [
    {
     "data": {
      "text/html": [
       "<div>\n",
       "<style scoped>\n",
       "    .dataframe tbody tr th:only-of-type {\n",
       "        vertical-align: middle;\n",
       "    }\n",
       "\n",
       "    .dataframe tbody tr th {\n",
       "        vertical-align: top;\n",
       "    }\n",
       "\n",
       "    .dataframe thead th {\n",
       "        text-align: right;\n",
       "    }\n",
       "</style>\n",
       "<table border=\"1\" class=\"dataframe\">\n",
       "  <thead>\n",
       "    <tr style=\"text-align: right;\">\n",
       "      <th></th>\n",
       "      <th>energy</th>\n",
       "      <th>protein</th>\n",
       "      <th>fat</th>\n",
       "      <th>calcium</th>\n",
       "      <th>iron</th>\n",
       "    </tr>\n",
       "    <tr>\n",
       "      <th>Food_Item</th>\n",
       "      <th></th>\n",
       "      <th></th>\n",
       "      <th></th>\n",
       "      <th></th>\n",
       "      <th></th>\n",
       "    </tr>\n",
       "  </thead>\n",
       "  <tbody>\n",
       "    <tr>\n",
       "      <th>BEEF BRAISED</th>\n",
       "      <td>1.335059</td>\n",
       "      <td>0.239681</td>\n",
       "      <td>1.314297</td>\n",
       "      <td>-0.456581</td>\n",
       "      <td>0.152385</td>\n",
       "    </tr>\n",
       "    <tr>\n",
       "      <th>HAMBURGER</th>\n",
       "      <td>0.378515</td>\n",
       "      <td>0.479361</td>\n",
       "      <td>0.318516</td>\n",
       "      <td>-0.456581</td>\n",
       "      <td>0.222121</td>\n",
       "    </tr>\n",
       "    <tr>\n",
       "      <th>BEEF ROAST</th>\n",
       "      <td>2.140569</td>\n",
       "      <td>-0.958723</td>\n",
       "      <td>2.310078</td>\n",
       "      <td>-0.482699</td>\n",
       "      <td>-0.266028</td>\n",
       "    </tr>\n",
       "    <tr>\n",
       "      <th>BEEF STEAK</th>\n",
       "      <td>1.687470</td>\n",
       "      <td>0.000000</td>\n",
       "      <td>1.676399</td>\n",
       "      <td>-0.456581</td>\n",
       "      <td>0.152385</td>\n",
       "    </tr>\n",
       "    <tr>\n",
       "      <th>BEEF CANNED</th>\n",
       "      <td>-0.275962</td>\n",
       "      <td>0.719042</td>\n",
       "      <td>-0.315163</td>\n",
       "      <td>-0.352109</td>\n",
       "      <td>0.919476</td>\n",
       "    </tr>\n",
       "  </tbody>\n",
       "</table>\n",
       "</div>"
      ],
      "text/plain": [
       "                energy   protein       fat   calcium      iron\n",
       "Food_Item                                                     \n",
       "BEEF BRAISED  1.335059  0.239681  1.314297 -0.456581  0.152385\n",
       "HAMBURGER     0.378515  0.479361  0.318516 -0.456581  0.222121\n",
       "BEEF ROAST    2.140569 -0.958723  2.310078 -0.482699 -0.266028\n",
       "BEEF STEAK    1.687470  0.000000  1.676399 -0.456581  0.152385\n",
       "BEEF CANNED  -0.275962  0.719042 -0.315163 -0.352109  0.919476"
      ]
     },
     "execution_count": 32,
     "metadata": {},
     "output_type": "execute_result"
    }
   ],
   "source": [
    "scaler=StandardScaler().set_output(transform='pandas')\n",
    "nutrient_scaled=scaler.fit_transform(nutrient_df)\n",
    "nutrient_scaled.head()"
   ]
  },
  {
   "cell_type": "code",
   "execution_count": 33,
   "id": "dfa9e459",
   "metadata": {},
   "outputs": [
    {
     "data": {
      "text/html": [
       "<div>\n",
       "<style scoped>\n",
       "    .dataframe tbody tr th:only-of-type {\n",
       "        vertical-align: middle;\n",
       "    }\n",
       "\n",
       "    .dataframe tbody tr th {\n",
       "        vertical-align: top;\n",
       "    }\n",
       "\n",
       "    .dataframe thead th {\n",
       "        text-align: right;\n",
       "    }\n",
       "</style>\n",
       "<table border=\"1\" class=\"dataframe\">\n",
       "  <thead>\n",
       "    <tr style=\"text-align: right;\">\n",
       "      <th></th>\n",
       "      <th>clusters</th>\n",
       "      <th>linkage</th>\n",
       "      <th>score</th>\n",
       "    </tr>\n",
       "  </thead>\n",
       "  <tbody>\n",
       "    <tr>\n",
       "      <th>1</th>\n",
       "      <td>2</td>\n",
       "      <td>single</td>\n",
       "      <td>0.448342</td>\n",
       "    </tr>\n",
       "    <tr>\n",
       "      <th>5</th>\n",
       "      <td>3</td>\n",
       "      <td>single</td>\n",
       "      <td>0.445319</td>\n",
       "    </tr>\n",
       "    <tr>\n",
       "      <th>7</th>\n",
       "      <td>3</td>\n",
       "      <td>average</td>\n",
       "      <td>0.445319</td>\n",
       "    </tr>\n",
       "    <tr>\n",
       "      <th>8</th>\n",
       "      <td>4</td>\n",
       "      <td>ward</td>\n",
       "      <td>0.415801</td>\n",
       "    </tr>\n",
       "    <tr>\n",
       "      <th>10</th>\n",
       "      <td>4</td>\n",
       "      <td>complete</td>\n",
       "      <td>0.415801</td>\n",
       "    </tr>\n",
       "  </tbody>\n",
       "</table>\n",
       "</div>"
      ],
      "text/plain": [
       "    clusters   linkage     score\n",
       "1          2    single  0.448342\n",
       "5          3    single  0.445319\n",
       "7          3   average  0.445319\n",
       "8          4      ward  0.415801\n",
       "10         4  complete  0.415801"
      ]
     },
     "execution_count": 33,
     "metadata": {},
     "output_type": "execute_result"
    }
   ],
   "source": [
    "ks=[2,3,4,5,6,7]\n",
    "linkage=['ward','single','complete','average']\n",
    "scores=[]\n",
    "for i in ks:\n",
    "    for link in linkage:\n",
    "        clust=AgglomerativeClustering(n_clusters=i,linkage=link)\n",
    "        clust.fit(nutrient_scaled)\n",
    "        scores.append([i,link,silhouette_score(nutrient_scaled,clust.labels_)])\n",
    "score_df=pd.DataFrame(scores,columns=['clusters','linkage','score'])\n",
    "score_df.sort_values(by='score',ascending=False,inplace=True)\n",
    "score_df.head()"
   ]
  },
  {
   "cell_type": "code",
   "execution_count": null,
   "id": "54e41f01",
   "metadata": {},
   "outputs": [],
   "source": []
  }
 ],
 "metadata": {
  "kernelspec": {
   "display_name": "Python 3",
   "language": "python",
   "name": "python3"
  },
  "language_info": {
   "codemirror_mode": {
    "name": "ipython",
    "version": 3
   },
   "file_extension": ".py",
   "mimetype": "text/x-python",
   "name": "python",
   "nbconvert_exporter": "python",
   "pygments_lexer": "ipython3",
   "version": "3.13.2"
  }
 },
 "nbformat": 4,
 "nbformat_minor": 5
}
